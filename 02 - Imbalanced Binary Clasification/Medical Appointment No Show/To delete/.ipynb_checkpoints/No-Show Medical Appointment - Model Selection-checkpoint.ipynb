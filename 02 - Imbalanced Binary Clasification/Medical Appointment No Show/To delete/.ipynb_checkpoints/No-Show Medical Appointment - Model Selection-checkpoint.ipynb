{
 "cells": [
  {
   "cell_type": "code",
   "execution_count": 1,
   "id": "8c842103-ff87-42f9-977f-fa169a4b1260",
   "metadata": {},
   "outputs": [],
   "source": [
    "import pandas as pd\n",
    "import numpy as np\n",
    "import tensorflow as tf\n",
    "from sklearn.model_selection import train_test_split\n",
    "import matplotlib.pyplot as plt\n",
    "import seaborn as sns"
   ]
  },
  {
   "cell_type": "code",
   "execution_count": 2,
   "id": "c02ba743-c69d-43e0-b5b8-008135a642ac",
   "metadata": {},
   "outputs": [],
   "source": [
    "import os"
   ]
  },
  {
   "cell_type": "code",
   "execution_count": 3,
   "id": "3712b413-62c7-477a-b5c4-a7c94460fbf0",
   "metadata": {},
   "outputs": [],
   "source": [
    "import optuna\n",
    "import scipy.stats as stats"
   ]
  },
  {
   "cell_type": "code",
   "execution_count": 4,
   "id": "92317515-01ec-4c33-b671-8c7026cae9dd",
   "metadata": {},
   "outputs": [],
   "source": [
    "from sklearn import metrics\n",
    "from sklearn.metrics import roc_curve, roc_auc_score, confusion_matrix, classification_report\n",
    "from sklearn.model_selection import cross_val_score, RandomizedSearchCV, KFold, StratifiedKFold, cross_validate\n",
    "from sklearn.pipeline import Pipeline"
   ]
  },
  {
   "cell_type": "code",
   "execution_count": 5,
   "id": "d7954e53-b687-4115-9be9-686d169937a0",
   "metadata": {},
   "outputs": [],
   "source": [
    "from sklearn.linear_model import LogisticRegression\n",
    "from sklearn.tree import DecisionTreeClassifier, plot_tree\n",
    "from sklearn.ensemble import GradientBoostingClassifier\n",
    "from sklearn.neighbors import KNeighborsClassifier\n",
    "from sklearn.svm import SVC\n",
    "from sklearn.naive_bayes import GaussianNB\n",
    "from sklearn.ensemble import RandomForestClassifier"
   ]
  },
  {
   "cell_type": "code",
   "execution_count": 6,
   "id": "6a4f2053-4eee-4f6f-841f-91b6e82b4cf2",
   "metadata": {},
   "outputs": [
    {
     "name": "stdout",
     "output_type": "stream",
     "text": [
      "Num GPUs Available:  1\n"
     ]
    }
   ],
   "source": [
    "print(\"Num GPUs Available: \", len(tf.config.list_physical_devices('GPU')))"
   ]
  },
  {
   "cell_type": "code",
   "execution_count": null,
   "id": "3e3d123b-efca-4e18-8c96-0a08661e3353",
   "metadata": {},
   "outputs": [],
   "source": []
  },
  {
   "cell_type": "code",
   "execution_count": null,
   "id": "2ab059bc-ce96-487b-826c-fee5939dea3b",
   "metadata": {},
   "outputs": [],
   "source": []
  },
  {
   "cell_type": "code",
   "execution_count": null,
   "id": "496d7a6a-91a3-4d56-8a05-a7283f678ef0",
   "metadata": {},
   "outputs": [],
   "source": []
  },
  {
   "cell_type": "markdown",
   "id": "90cb3263-35ea-45a3-9a88-e168b32d783d",
   "metadata": {},
   "source": [
    "# Importación de datos"
   ]
  },
  {
   "cell_type": "code",
   "execution_count": 7,
   "id": "658102c7-cac6-4017-a24d-1e8c0428f916",
   "metadata": {},
   "outputs": [],
   "source": [
    "# Definir la ruta común\n",
    "base_path = \"../Medical Appointment No Show/Proceced Datasets/\"\n",
    "\n",
    "# Función para importar DataFrames y eliminar el nombre del índice\n",
    "def import_with_index(filepath):\n",
    "    # Leer el CSV con el índice\n",
    "    df = pd.read_csv(filepath, index_col=0)\n",
    "    # Eliminar el nombre del índice\n",
    "    df.index.name = None\n",
    "    return df\n",
    "\n",
    "# Importar los DataFrames de forma manual\n",
    "\n",
    "X_train = import_with_index(os.path.join(base_path, 'X_train_pipe.csv'))\n",
    "X_test = import_with_index(os.path.join(base_path, 'X_test_pipe.csv'))\n",
    "\n",
    "X_train_trees = import_with_index(os.path.join(base_path, 'X_train_pipe_trees.csv'))\n",
    "X_test_trees = import_with_index(os.path.join(base_path, 'X_test_pipe_trees.csv'))\n",
    "\n",
    "y_train = import_with_index(os.path.join(base_path, 'y_train_pipe.csv'))\n",
    "y_test = import_with_index(os.path.join(base_path, 'y_test_pipe.csv'))"
   ]
  },
  {
   "cell_type": "code",
   "execution_count": 8,
   "id": "24b3a242-3797-4d62-ad9e-a9ec90f78805",
   "metadata": {},
   "outputs": [
    {
     "data": {
      "text/html": [
       "<div>\n",
       "<style scoped>\n",
       "    .dataframe tbody tr th:only-of-type {\n",
       "        vertical-align: middle;\n",
       "    }\n",
       "\n",
       "    .dataframe tbody tr th {\n",
       "        vertical-align: top;\n",
       "    }\n",
       "\n",
       "    .dataframe thead th {\n",
       "        text-align: right;\n",
       "    }\n",
       "</style>\n",
       "<table border=\"1\" class=\"dataframe\">\n",
       "  <thead>\n",
       "    <tr style=\"text-align: right;\">\n",
       "      <th></th>\n",
       "      <th>Scholarship</th>\n",
       "      <th>Hipertension</th>\n",
       "      <th>Diabetes</th>\n",
       "      <th>Alcoholism</th>\n",
       "      <th>Handcap</th>\n",
       "      <th>SMS_received</th>\n",
       "      <th>FirstTimeAppointment</th>\n",
       "      <th>Comorbilidades</th>\n",
       "      <th>InteraccionCondicionesHandcap</th>\n",
       "      <th>RiesgoGeneral</th>\n",
       "      <th>...</th>\n",
       "      <th>DayOfWeek_Tuesday</th>\n",
       "      <th>DayOfWeek_Wednesday</th>\n",
       "      <th>ScheduledPeriod_Noche</th>\n",
       "      <th>ScheduledPeriod_Tarde</th>\n",
       "      <th>Age_group_Adultos mayores (60-79)</th>\n",
       "      <th>Age_group_Adultos medios (40-59)</th>\n",
       "      <th>Age_group_Ancianos (80+)</th>\n",
       "      <th>Age_group_Infancia (0-6)</th>\n",
       "      <th>Age_group_Jóvenes adultos (20-39)</th>\n",
       "      <th>Age_group_Niñez (7-12)</th>\n",
       "    </tr>\n",
       "  </thead>\n",
       "  <tbody>\n",
       "    <tr>\n",
       "      <th>64200</th>\n",
       "      <td>0</td>\n",
       "      <td>0</td>\n",
       "      <td>0</td>\n",
       "      <td>0</td>\n",
       "      <td>0.0</td>\n",
       "      <td>0</td>\n",
       "      <td>1</td>\n",
       "      <td>0.0</td>\n",
       "      <td>0.0</td>\n",
       "      <td>0.0</td>\n",
       "      <td>...</td>\n",
       "      <td>0</td>\n",
       "      <td>1</td>\n",
       "      <td>0</td>\n",
       "      <td>0</td>\n",
       "      <td>0</td>\n",
       "      <td>0</td>\n",
       "      <td>0</td>\n",
       "      <td>0</td>\n",
       "      <td>1</td>\n",
       "      <td>0</td>\n",
       "    </tr>\n",
       "    <tr>\n",
       "      <th>91954</th>\n",
       "      <td>0</td>\n",
       "      <td>0</td>\n",
       "      <td>0</td>\n",
       "      <td>0</td>\n",
       "      <td>0.0</td>\n",
       "      <td>0</td>\n",
       "      <td>1</td>\n",
       "      <td>0.0</td>\n",
       "      <td>0.0</td>\n",
       "      <td>0.0</td>\n",
       "      <td>...</td>\n",
       "      <td>0</td>\n",
       "      <td>0</td>\n",
       "      <td>0</td>\n",
       "      <td>0</td>\n",
       "      <td>0</td>\n",
       "      <td>1</td>\n",
       "      <td>0</td>\n",
       "      <td>0</td>\n",
       "      <td>0</td>\n",
       "      <td>0</td>\n",
       "    </tr>\n",
       "    <tr>\n",
       "      <th>11678</th>\n",
       "      <td>0</td>\n",
       "      <td>0</td>\n",
       "      <td>0</td>\n",
       "      <td>0</td>\n",
       "      <td>0.0</td>\n",
       "      <td>0</td>\n",
       "      <td>1</td>\n",
       "      <td>0.0</td>\n",
       "      <td>0.0</td>\n",
       "      <td>0.0</td>\n",
       "      <td>...</td>\n",
       "      <td>0</td>\n",
       "      <td>0</td>\n",
       "      <td>0</td>\n",
       "      <td>0</td>\n",
       "      <td>0</td>\n",
       "      <td>0</td>\n",
       "      <td>0</td>\n",
       "      <td>0</td>\n",
       "      <td>1</td>\n",
       "      <td>0</td>\n",
       "    </tr>\n",
       "    <tr>\n",
       "      <th>84806</th>\n",
       "      <td>0</td>\n",
       "      <td>0</td>\n",
       "      <td>0</td>\n",
       "      <td>0</td>\n",
       "      <td>0.0</td>\n",
       "      <td>1</td>\n",
       "      <td>0</td>\n",
       "      <td>0.0</td>\n",
       "      <td>0.0</td>\n",
       "      <td>0.0</td>\n",
       "      <td>...</td>\n",
       "      <td>1</td>\n",
       "      <td>0</td>\n",
       "      <td>0</td>\n",
       "      <td>1</td>\n",
       "      <td>1</td>\n",
       "      <td>0</td>\n",
       "      <td>0</td>\n",
       "      <td>0</td>\n",
       "      <td>0</td>\n",
       "      <td>0</td>\n",
       "    </tr>\n",
       "  </tbody>\n",
       "</table>\n",
       "<p>4 rows × 35 columns</p>\n",
       "</div>"
      ],
      "text/plain": [
       "       Scholarship  Hipertension  Diabetes  Alcoholism  Handcap  SMS_received  \\\n",
       "64200            0             0         0           0      0.0             0   \n",
       "91954            0             0         0           0      0.0             0   \n",
       "11678            0             0         0           0      0.0             0   \n",
       "84806            0             0         0           0      0.0             1   \n",
       "\n",
       "       FirstTimeAppointment  Comorbilidades  InteraccionCondicionesHandcap  \\\n",
       "64200                     1             0.0                            0.0   \n",
       "91954                     1             0.0                            0.0   \n",
       "11678                     1             0.0                            0.0   \n",
       "84806                     0             0.0                            0.0   \n",
       "\n",
       "       RiesgoGeneral  ...  DayOfWeek_Tuesday  DayOfWeek_Wednesday  \\\n",
       "64200            0.0  ...                  0                    1   \n",
       "91954            0.0  ...                  0                    0   \n",
       "11678            0.0  ...                  0                    0   \n",
       "84806            0.0  ...                  1                    0   \n",
       "\n",
       "       ScheduledPeriod_Noche  ScheduledPeriod_Tarde  \\\n",
       "64200                      0                      0   \n",
       "91954                      0                      0   \n",
       "11678                      0                      0   \n",
       "84806                      0                      1   \n",
       "\n",
       "       Age_group_Adultos mayores (60-79)  Age_group_Adultos medios (40-59)  \\\n",
       "64200                                  0                                 0   \n",
       "91954                                  0                                 1   \n",
       "11678                                  0                                 0   \n",
       "84806                                  1                                 0   \n",
       "\n",
       "       Age_group_Ancianos (80+)  Age_group_Infancia (0-6)  \\\n",
       "64200                         0                         0   \n",
       "91954                         0                         0   \n",
       "11678                         0                         0   \n",
       "84806                         0                         0   \n",
       "\n",
       "       Age_group_Jóvenes adultos (20-39)  Age_group_Niñez (7-12)  \n",
       "64200                                  1                       0  \n",
       "91954                                  0                       0  \n",
       "11678                                  1                       0  \n",
       "84806                                  0                       0  \n",
       "\n",
       "[4 rows x 35 columns]"
      ]
     },
     "execution_count": 8,
     "metadata": {},
     "output_type": "execute_result"
    }
   ],
   "source": [
    "X_train.head(4)"
   ]
  },
  {
   "cell_type": "code",
   "execution_count": 9,
   "id": "fbb086b8-1a0b-4f16-a47e-62e2db87248c",
   "metadata": {},
   "outputs": [
    {
     "data": {
      "text/html": [
       "<div>\n",
       "<style scoped>\n",
       "    .dataframe tbody tr th:only-of-type {\n",
       "        vertical-align: middle;\n",
       "    }\n",
       "\n",
       "    .dataframe tbody tr th {\n",
       "        vertical-align: top;\n",
       "    }\n",
       "\n",
       "    .dataframe thead th {\n",
       "        text-align: right;\n",
       "    }\n",
       "</style>\n",
       "<table border=\"1\" class=\"dataframe\">\n",
       "  <thead>\n",
       "    <tr style=\"text-align: right;\">\n",
       "      <th></th>\n",
       "      <th>No-show</th>\n",
       "    </tr>\n",
       "  </thead>\n",
       "  <tbody>\n",
       "    <tr>\n",
       "      <th>64200</th>\n",
       "      <td>0</td>\n",
       "    </tr>\n",
       "    <tr>\n",
       "      <th>91954</th>\n",
       "      <td>0</td>\n",
       "    </tr>\n",
       "    <tr>\n",
       "      <th>11678</th>\n",
       "      <td>0</td>\n",
       "    </tr>\n",
       "    <tr>\n",
       "      <th>84806</th>\n",
       "      <td>0</td>\n",
       "    </tr>\n",
       "  </tbody>\n",
       "</table>\n",
       "</div>"
      ],
      "text/plain": [
       "       No-show\n",
       "64200        0\n",
       "91954        0\n",
       "11678        0\n",
       "84806        0"
      ]
     },
     "execution_count": 9,
     "metadata": {},
     "output_type": "execute_result"
    }
   ],
   "source": [
    "y_train.head(4)"
   ]
  },
  {
   "cell_type": "code",
   "execution_count": 10,
   "id": "b59aa77b-5831-498d-9485-51d5cf73b245",
   "metadata": {},
   "outputs": [
    {
     "data": {
      "text/plain": [
       "True"
      ]
     },
     "execution_count": 10,
     "metadata": {},
     "output_type": "execute_result"
    }
   ],
   "source": [
    "all(X_train.index == y_train.index)"
   ]
  },
  {
   "cell_type": "code",
   "execution_count": 11,
   "id": "14e40ce2-2f6d-43c1-8cbb-3811846e92aa",
   "metadata": {},
   "outputs": [
    {
     "data": {
      "text/html": [
       "<div>\n",
       "<style scoped>\n",
       "    .dataframe tbody tr th:only-of-type {\n",
       "        vertical-align: middle;\n",
       "    }\n",
       "\n",
       "    .dataframe tbody tr th {\n",
       "        vertical-align: top;\n",
       "    }\n",
       "\n",
       "    .dataframe thead th {\n",
       "        text-align: right;\n",
       "    }\n",
       "</style>\n",
       "<table border=\"1\" class=\"dataframe\">\n",
       "  <thead>\n",
       "    <tr style=\"text-align: right;\">\n",
       "      <th></th>\n",
       "      <th>Scholarship</th>\n",
       "      <th>Hipertension</th>\n",
       "      <th>Diabetes</th>\n",
       "      <th>Alcoholism</th>\n",
       "      <th>Handcap</th>\n",
       "      <th>SMS_received</th>\n",
       "      <th>FirstTimeAppointment</th>\n",
       "      <th>Comorbilidades</th>\n",
       "      <th>InteraccionCondicionesHandcap</th>\n",
       "      <th>RiesgoGeneral</th>\n",
       "      <th>...</th>\n",
       "      <th>DayOfWeek_Tuesday</th>\n",
       "      <th>DayOfWeek_Wednesday</th>\n",
       "      <th>ScheduledPeriod_Noche</th>\n",
       "      <th>ScheduledPeriod_Tarde</th>\n",
       "      <th>Age_group_Adultos mayores (60-79)</th>\n",
       "      <th>Age_group_Adultos medios (40-59)</th>\n",
       "      <th>Age_group_Ancianos (80+)</th>\n",
       "      <th>Age_group_Infancia (0-6)</th>\n",
       "      <th>Age_group_Jóvenes adultos (20-39)</th>\n",
       "      <th>Age_group_Niñez (7-12)</th>\n",
       "    </tr>\n",
       "  </thead>\n",
       "  <tbody>\n",
       "    <tr>\n",
       "      <th>104581</th>\n",
       "      <td>0</td>\n",
       "      <td>0</td>\n",
       "      <td>0</td>\n",
       "      <td>0</td>\n",
       "      <td>0.0</td>\n",
       "      <td>0</td>\n",
       "      <td>0</td>\n",
       "      <td>0.0</td>\n",
       "      <td>0.0</td>\n",
       "      <td>0.0</td>\n",
       "      <td>...</td>\n",
       "      <td>0</td>\n",
       "      <td>1</td>\n",
       "      <td>0</td>\n",
       "      <td>0</td>\n",
       "      <td>1</td>\n",
       "      <td>0</td>\n",
       "      <td>0</td>\n",
       "      <td>0</td>\n",
       "      <td>0</td>\n",
       "      <td>0</td>\n",
       "    </tr>\n",
       "    <tr>\n",
       "      <th>106123</th>\n",
       "      <td>0</td>\n",
       "      <td>0</td>\n",
       "      <td>0</td>\n",
       "      <td>0</td>\n",
       "      <td>0.0</td>\n",
       "      <td>1</td>\n",
       "      <td>0</td>\n",
       "      <td>0.0</td>\n",
       "      <td>0.0</td>\n",
       "      <td>0.0</td>\n",
       "      <td>...</td>\n",
       "      <td>0</td>\n",
       "      <td>1</td>\n",
       "      <td>0</td>\n",
       "      <td>0</td>\n",
       "      <td>0</td>\n",
       "      <td>0</td>\n",
       "      <td>0</td>\n",
       "      <td>0</td>\n",
       "      <td>1</td>\n",
       "      <td>0</td>\n",
       "    </tr>\n",
       "    <tr>\n",
       "      <th>54961</th>\n",
       "      <td>0</td>\n",
       "      <td>0</td>\n",
       "      <td>0</td>\n",
       "      <td>0</td>\n",
       "      <td>0.0</td>\n",
       "      <td>0</td>\n",
       "      <td>1</td>\n",
       "      <td>0.0</td>\n",
       "      <td>0.0</td>\n",
       "      <td>0.0</td>\n",
       "      <td>...</td>\n",
       "      <td>0</td>\n",
       "      <td>0</td>\n",
       "      <td>0</td>\n",
       "      <td>0</td>\n",
       "      <td>0</td>\n",
       "      <td>1</td>\n",
       "      <td>0</td>\n",
       "      <td>0</td>\n",
       "      <td>0</td>\n",
       "      <td>0</td>\n",
       "    </tr>\n",
       "    <tr>\n",
       "      <th>40500</th>\n",
       "      <td>0</td>\n",
       "      <td>0</td>\n",
       "      <td>0</td>\n",
       "      <td>0</td>\n",
       "      <td>0.0</td>\n",
       "      <td>1</td>\n",
       "      <td>0</td>\n",
       "      <td>0.0</td>\n",
       "      <td>0.0</td>\n",
       "      <td>0.0</td>\n",
       "      <td>...</td>\n",
       "      <td>0</td>\n",
       "      <td>0</td>\n",
       "      <td>0</td>\n",
       "      <td>0</td>\n",
       "      <td>0</td>\n",
       "      <td>0</td>\n",
       "      <td>0</td>\n",
       "      <td>0</td>\n",
       "      <td>0</td>\n",
       "      <td>0</td>\n",
       "    </tr>\n",
       "  </tbody>\n",
       "</table>\n",
       "<p>4 rows × 35 columns</p>\n",
       "</div>"
      ],
      "text/plain": [
       "        Scholarship  Hipertension  Diabetes  Alcoholism  Handcap  \\\n",
       "104581            0             0         0           0      0.0   \n",
       "106123            0             0         0           0      0.0   \n",
       "54961             0             0         0           0      0.0   \n",
       "40500             0             0         0           0      0.0   \n",
       "\n",
       "        SMS_received  FirstTimeAppointment  Comorbilidades  \\\n",
       "104581             0                     0             0.0   \n",
       "106123             1                     0             0.0   \n",
       "54961              0                     1             0.0   \n",
       "40500              1                     0             0.0   \n",
       "\n",
       "        InteraccionCondicionesHandcap  RiesgoGeneral  ...  DayOfWeek_Tuesday  \\\n",
       "104581                            0.0            0.0  ...                  0   \n",
       "106123                            0.0            0.0  ...                  0   \n",
       "54961                             0.0            0.0  ...                  0   \n",
       "40500                             0.0            0.0  ...                  0   \n",
       "\n",
       "        DayOfWeek_Wednesday  ScheduledPeriod_Noche  ScheduledPeriod_Tarde  \\\n",
       "104581                    1                      0                      0   \n",
       "106123                    1                      0                      0   \n",
       "54961                     0                      0                      0   \n",
       "40500                     0                      0                      0   \n",
       "\n",
       "        Age_group_Adultos mayores (60-79)  Age_group_Adultos medios (40-59)  \\\n",
       "104581                                  1                                 0   \n",
       "106123                                  0                                 0   \n",
       "54961                                   0                                 1   \n",
       "40500                                   0                                 0   \n",
       "\n",
       "        Age_group_Ancianos (80+)  Age_group_Infancia (0-6)  \\\n",
       "104581                         0                         0   \n",
       "106123                         0                         0   \n",
       "54961                          0                         0   \n",
       "40500                          0                         0   \n",
       "\n",
       "        Age_group_Jóvenes adultos (20-39)  Age_group_Niñez (7-12)  \n",
       "104581                                  0                       0  \n",
       "106123                                  1                       0  \n",
       "54961                                   0                       0  \n",
       "40500                                   0                       0  \n",
       "\n",
       "[4 rows x 35 columns]"
      ]
     },
     "execution_count": 11,
     "metadata": {},
     "output_type": "execute_result"
    }
   ],
   "source": [
    "X_test.head(4)"
   ]
  },
  {
   "cell_type": "code",
   "execution_count": 12,
   "id": "39f81bf5-a800-4ee6-98ac-ebe482a258cd",
   "metadata": {},
   "outputs": [
    {
     "data": {
      "text/html": [
       "<div>\n",
       "<style scoped>\n",
       "    .dataframe tbody tr th:only-of-type {\n",
       "        vertical-align: middle;\n",
       "    }\n",
       "\n",
       "    .dataframe tbody tr th {\n",
       "        vertical-align: top;\n",
       "    }\n",
       "\n",
       "    .dataframe thead th {\n",
       "        text-align: right;\n",
       "    }\n",
       "</style>\n",
       "<table border=\"1\" class=\"dataframe\">\n",
       "  <thead>\n",
       "    <tr style=\"text-align: right;\">\n",
       "      <th></th>\n",
       "      <th>No-show</th>\n",
       "    </tr>\n",
       "  </thead>\n",
       "  <tbody>\n",
       "    <tr>\n",
       "      <th>104581</th>\n",
       "      <td>0</td>\n",
       "    </tr>\n",
       "    <tr>\n",
       "      <th>106123</th>\n",
       "      <td>0</td>\n",
       "    </tr>\n",
       "    <tr>\n",
       "      <th>54961</th>\n",
       "      <td>0</td>\n",
       "    </tr>\n",
       "    <tr>\n",
       "      <th>40500</th>\n",
       "      <td>0</td>\n",
       "    </tr>\n",
       "  </tbody>\n",
       "</table>\n",
       "</div>"
      ],
      "text/plain": [
       "        No-show\n",
       "104581        0\n",
       "106123        0\n",
       "54961         0\n",
       "40500         0"
      ]
     },
     "execution_count": 12,
     "metadata": {},
     "output_type": "execute_result"
    }
   ],
   "source": [
    "y_test.head(4)"
   ]
  },
  {
   "cell_type": "code",
   "execution_count": 13,
   "id": "8a586014-4d45-43c8-b91b-0017d0c668ab",
   "metadata": {},
   "outputs": [],
   "source": [
    "y_train = y_train.values.flatten()\n",
    "y_test = y_test.values.flatten()"
   ]
  },
  {
   "cell_type": "code",
   "execution_count": 14,
   "id": "bff8a1f1-1392-4c25-8040-0a3d8b350adb",
   "metadata": {
    "scrolled": true
   },
   "outputs": [],
   "source": [
    "# Asegúrate de que y_train sea un Series unidimensional\n",
    "if isinstance(y_train, pd.DataFrame):\n",
    "    y_train = y_train.iloc[:, 0]  # Seleccionar la primera columna como un Series\n",
    "\n",
    "# Asegúrate de que y_train sea un Series unidimensional\n",
    "if isinstance(y_test, pd.DataFrame):\n",
    "    y_test = y_test.iloc[:, 0]  # Seleccionar la primera columna como un Series"
   ]
  },
  {
   "cell_type": "code",
   "execution_count": null,
   "id": "8d1f1240-f7e0-4287-aa72-97d636d444ab",
   "metadata": {},
   "outputs": [],
   "source": []
  },
  {
   "cell_type": "markdown",
   "id": "c9669341-9c74-4652-8c0d-c58e98e27816",
   "metadata": {},
   "source": [
    "#### Analizo la importancia de las caracteristicas con Mutual information"
   ]
  },
  {
   "cell_type": "code",
   "execution_count": 15,
   "id": "772c903b-9f23-45b5-9250-4b8282fa0d99",
   "metadata": {},
   "outputs": [],
   "source": [
    "# to obtain the mutual information values\n",
    "from sklearn.feature_selection import mutual_info_classif, mutual_info_regression\n",
    "\n",
    "# to select the features\n",
    "from sklearn.feature_selection import SelectKBest, SelectPercentile"
   ]
  },
  {
   "cell_type": "code",
   "execution_count": 16,
   "id": "74871834-5e07-4f5d-94cd-22e5d5b4a819",
   "metadata": {},
   "outputs": [
    {
     "data": {
      "text/plain": [
       "Text(0, 0.5, 'Mutual Information')"
      ]
     },
     "execution_count": 16,
     "metadata": {},
     "output_type": "execute_result"
    },
    {
     "data": {
      "image/png": "[encoded data removed]",
      "text/plain": [
       "<Figure size 2000x600 with 1 Axes>"
      ]
     },
     "metadata": {},
     "output_type": "display_data"
    }
   ],
   "source": [
    "# the smaller the value of the mi, the less information we can infer from the feature about the target\n",
    "mi = mutual_info_classif(\n",
    "    X = X_train, \n",
    "    y = y_train,\n",
    "    discrete_features = False, \n",
    "    n_neighbors=3,\n",
    "    random_state=3,\n",
    ")\n",
    "\n",
    "# 1) let's capture the above array in a pandas series\n",
    "# 2)add the variable names in the index\n",
    "# 3) sort the features based on their mutual information value\n",
    "# 4) and make a var plot\n",
    "\n",
    "mi = pd.Series(mi)\n",
    "mi.index = X_train.columns\n",
    "mi.sort_values(ascending=False).plot.bar(figsize=(20, 6))\n",
    "plt.ylabel('Mutual Information')"
   ]
  },
  {
   "cell_type": "code",
   "execution_count": 17,
   "id": "11d728ee-31a4-49ae-a556-c8246d4d6de8",
   "metadata": {},
   "outputs": [],
   "source": [
    "# Los valores de 'mi' ya están en la Serie\n",
    "# Crear un DataFrame con los valores de la información mutua\n",
    "mi_df = mi.to_frame(name='Mutual Information')\n",
    "\n",
    "# Extraer el nombre de la variable original correctamente\n",
    "# Usamos el primer guion bajo '_' para separar la variable original\n",
    "# Si tus variables tienen más de un guion bajo (como en 'Age_group_Adultos mayores (60-79)'), \n",
    "# tomaremos todo hasta el primer guion bajo que aparece en el nombre de la columna\n",
    "mi_df['Variable Original'] = mi_df.index.str.split('_').str[0]\n",
    "\n",
    "# Ahora, agrupamos por 'Variable Original' y calculamos el promedio de la MI para cada grupo\n",
    "mi_grouped = mi_df.groupby('Variable Original')['Mutual Information'].mean()\n",
    "\n",
    "# Ordenamos por el valor de MI de forma decreciente\n",
    "mi_grouped = mi_grouped.sort_values(ascending=False)"
   ]
  },
  {
   "cell_type": "code",
   "execution_count": 18,
   "id": "6a33ee75-6427-4ecb-85f0-b0c60420f222",
   "metadata": {},
   "outputs": [
    {
     "data": {
      "text/plain": [
       "<Axes: xlabel='Variable Original'>"
      ]
     },
     "execution_count": 18,
     "metadata": {},
     "output_type": "execute_result"
    },
    {
     "data": {
      "image/png": "[encoded data removed]",
      "text/plain": [
       "<Figure size 2000x600 with 1 Axes>"
      ]
     },
     "metadata": {},
     "output_type": "display_data"
    }
   ],
   "source": [
    "# Mostrar los resultados\n",
    "mi_grouped.sort_values(ascending=False).plot.bar(figsize=(20, 6))"
   ]
  },
  {
   "cell_type": "code",
   "execution_count": 19,
   "id": "57b0890a-17e3-4381-a92c-b4386690cbbf",
   "metadata": {},
   "outputs": [],
   "source": [
    "list_to_drop = ['Scholarship']\n",
    "X_train = X_train.drop(columns = list_to_drop)\n",
    "X_test = X_test.drop(columns = list_to_drop)"
   ]
  },
  {
   "cell_type": "code",
   "execution_count": null,
   "id": "ba853db6-f2d4-49dd-8f29-5770823f7f64",
   "metadata": {},
   "outputs": [],
   "source": []
  },
  {
   "cell_type": "code",
   "execution_count": null,
   "id": "38cf0011-22b4-435c-9a11-8047e8d482a3",
   "metadata": {},
   "outputs": [],
   "source": []
  },
  {
   "cell_type": "code",
   "execution_count": 20,
   "id": "39ca5e81-2aca-43c4-bbc8-cffb2ace9e31",
   "metadata": {},
   "outputs": [
    {
     "data": {
      "text/plain": [
       "Text(0, 0.5, 'Mutual Information')"
      ]
     },
     "execution_count": 20,
     "metadata": {},
     "output_type": "execute_result"
    },
    {
     "data": {
      "image/png": "[encoded data removed]",
      "text/plain": [
       "<Figure size 2000x600 with 1 Axes>"
      ]
     },
     "metadata": {},
     "output_type": "display_data"
    }
   ],
   "source": [
    "# the smaller the value of the mi, the less information we can infer from the feature about the target\n",
    "mi_trees = mutual_info_classif(\n",
    "    X = X_train_trees, \n",
    "    y = y_train,\n",
    "    discrete_features = False, \n",
    "    n_neighbors=3,\n",
    "    random_state=3,\n",
    ")\n",
    "\n",
    "# 1) let's capture the above array in a pandas series\n",
    "# 2)add the variable names in the index\n",
    "# 3) sort the features based on their mutual information value\n",
    "# 4) and make a var plot\n",
    "\n",
    "mi_trees = pd.Series(mi_trees)\n",
    "mi_trees.index = X_train_trees.columns\n",
    "mi_trees.sort_values(ascending=False).plot.bar(figsize=(20, 6))\n",
    "plt.ylabel('Mutual Information')"
   ]
  },
  {
   "cell_type": "code",
   "execution_count": 21,
   "id": "207ee56d-59cf-4da2-9536-4b556f5d59f3",
   "metadata": {},
   "outputs": [],
   "source": [
    "# Los valores de 'mi' ya están en la Serie\n",
    "# Crear un DataFrame con los valores de la información mutua\n",
    "mi_trees_df = mi_trees.to_frame(name='Mutual Information')\n",
    "\n",
    "# Extraer el nombre de la variable original correctamente\n",
    "# Usamos el primer guion bajo '_' para separar la variable original\n",
    "# Si tus variables tienen más de un guion bajo (como en 'Age_group_Adultos mayores (60-79)'), \n",
    "# tomaremos todo hasta el primer guion bajo que aparece en el nombre de la columna\n",
    "mi_trees_df['Variable Original'] = mi_trees_df.index.str.split('_').str[0]\n",
    "\n",
    "# Ahora, agrupamos por 'Variable Original' y calculamos el promedio de la MI para cada grupo\n",
    "mi_trees_grouped = mi_trees_df.groupby('Variable Original')['Mutual Information'].mean()\n",
    "\n",
    "# Ordenamos por el valor de MI de forma decreciente\n",
    "mi_trees_grouped = mi_trees_grouped.sort_values(ascending=False)"
   ]
  },
  {
   "cell_type": "code",
   "execution_count": 22,
   "id": "45ab3787-c148-4b5f-a22f-a9f220715bc7",
   "metadata": {},
   "outputs": [
    {
     "data": {
      "text/plain": [
       "<Axes: xlabel='Variable Original'>"
      ]
     },
     "execution_count": 22,
     "metadata": {},
     "output_type": "execute_result"
    },
    {
     "data": {
      "image/png": "[encoded data removed]",
      "text/plain": [
       "<Figure size 2000x600 with 1 Axes>"
      ]
     },
     "metadata": {},
     "output_type": "display_data"
    }
   ],
   "source": [
    "# Mostrar los resultados\n",
    "mi_trees_grouped.sort_values(ascending=False).plot.bar(figsize=(20, 6))"
   ]
  },
  {
   "cell_type": "code",
   "execution_count": 23,
   "id": "74833a42-74e1-4d2f-be51-d49ce0f915ec",
   "metadata": {},
   "outputs": [],
   "source": [
    "list_to_drop = ['Scholarship', 'Handcap', 'Alcoholism', 'RiesgoGeneral']\n",
    "X_train_trees = X_train_trees.drop(columns = list_to_drop)\n",
    "X_test_trees = X_test_trees.drop(columns = list_to_drop)"
   ]
  },
  {
   "cell_type": "code",
   "execution_count": null,
   "id": "1b987532-3e46-475c-aa2f-afc6bfa35618",
   "metadata": {},
   "outputs": [],
   "source": []
  },
  {
   "cell_type": "code",
   "execution_count": null,
   "id": "a9a37db7-60a7-4194-972c-333f767b9eda",
   "metadata": {},
   "outputs": [],
   "source": []
  },
  {
   "cell_type": "code",
   "execution_count": null,
   "id": "8cd171ae-9826-4389-b5f1-6d3e39aa3646",
   "metadata": {},
   "outputs": [],
   "source": []
  },
  {
   "cell_type": "code",
   "execution_count": null,
   "id": "f1714c90-d870-43f9-a9dc-3690875bd3c5",
   "metadata": {},
   "outputs": [],
   "source": []
  },
  {
   "cell_type": "markdown",
   "id": "8d9c11d5-3329-4bd0-be1f-b0b996aca574",
   "metadata": {},
   "source": [
    "# Selección de modelo"
   ]
  },
  {
   "cell_type": "code",
   "execution_count": 24,
   "id": "04d23b82-12e8-464c-8b69-81facaa96a03",
   "metadata": {},
   "outputs": [],
   "source": [
    "def resultados(y, y_pred):\n",
    "    \"\"\"\n",
    "    Esta función evalúa el rendimiento de un modelo de clasificación utilizando\n",
    "    una matriz de confusión y un reporte de clasificación. \n",
    "\n",
    "    Parámetros:\n",
    "    - y: array-like, valores verdaderos de las etiquetas de clase (etiquetas reales).\n",
    "    - y_pred: array-like, valores predichos por el modelo (etiquetas predichas).\n",
    "    \"\"\"\n",
    "    conf_matrix = confusion_matrix(y, y_pred, normalize='true')\n",
    "    plt.figure(figsize=(4, 3))\n",
    "    sns.heatmap(conf_matrix, annot=True, cmap='Blues', vmin=0, vmax=1, center=0.5)\n",
    "    plt.title(\"Matriz de Confusión\")\n",
    "    plt.ylabel('Real')\n",
    "    plt.xlabel('Predicho')\n",
    "    plt.show()\n",
    "    print(classification_report(y, y_pred))"
   ]
  },
  {
   "cell_type": "code",
   "execution_count": 25,
   "id": "2245167b-1b69-482b-9281-2f3dc62180cb",
   "metadata": {},
   "outputs": [],
   "source": [
    "def model_evaluation(model, X_train, y_train):\n",
    "    \"\"\"\n",
    "    Esta función evalúa el rendimiento del modelo utilizando K-Fold Cross-Validation\n",
    "    y devuelve métricas de rendimiento, así como el riesgo de sobreajuste.\n",
    "\n",
    "    Parámetros:\n",
    "    - model: el modelo a evaluar.\n",
    "    - X_train: conjunto de datos de entrenamiento.\n",
    "    - y_train: etiquetas del conjunto de entrenamiento.\n",
    "\n",
    "    Retorna:\n",
    "    - df: DataFrame con las métricas de rendimiento.\n",
    "    - overfitting_risk: diccionario con información sobre el riesgo de sobreajuste.\n",
    "    \"\"\"\n",
    "    # K-Fold Cross-Validation\n",
    "    kf = KFold(n_splits=10, shuffle=True, random_state=42)\n",
    "    \n",
    "    # Estimación del error de generalización\n",
    "    clf = cross_validate(\n",
    "        model,\n",
    "        X_train,\n",
    "        y_train,\n",
    "        scoring='recall',             # Modificar el scoring si es necesario\n",
    "        return_train_score=True,\n",
    "        cv=kf\n",
    "    )\n",
    "\n",
    "    # Calcular valores para el conjunto de entrenamiento\n",
    "    mean_train_score = np.mean(clf['train_score'])\n",
    "    std_train_score = np.std(clf['train_score'])\n",
    "    \n",
    "    # Calcular el intervalo para el conjunto de entrenamiento\n",
    "    interval_lower_train = mean_train_score - 3 * std_train_score\n",
    "    interval_upper_train = mean_train_score + 3 * std_train_score\n",
    "    \n",
    "    # Calcular el puntaje medio y el intervalo para el conjunto de prueba\n",
    "    mean_test_score = np.mean(clf['test_score']) if 'test_score' in clf else np.nan\n",
    "    std_test_score = np.std(clf['test_score']) if 'test_score' in clf else np.nan\n",
    "    \n",
    "    # Calcular el intervalo para el conjunto de prueba\n",
    "    interval_lower_test = mean_test_score - 3 * std_test_score if not np.isnan(mean_test_score) else np.nan\n",
    "    interval_upper_test = mean_test_score + 3 * std_test_score if not np.isnan(mean_test_score) else np.nan\n",
    "\n",
    "    # Crear el DataFrame con las métricas\n",
    "    df = pd.DataFrame({\n",
    "        'mean': [mean_train_score, mean_test_score],\n",
    "        'std': [std_train_score, std_test_score],\n",
    "        'interval_lower': [interval_lower_train, interval_lower_test],\n",
    "        'interval_upper': [interval_upper_train, interval_upper_test]\n",
    "    }, index=['train_set', 'test_set'])\n",
    "\n",
    "    # Prueba t para comparar las puntuaciones de entrenamiento y prueba\n",
    "    t_stat, p_value = stats.ttest_ind(clf['train_score'], clf['test_score'], equal_var=False)\n",
    "\n",
    "    # Diccionario con la probabilidad de sobreajuste\n",
    "    overfitting_risk = {\n",
    "        't_statistic': t_stat,\n",
    "        'p_value': p_value,\n",
    "        'overfitting_likelihood': 'High' if p_value < 0.10 else 'Low'\n",
    "    }\n",
    "    \n",
    "    return df, overfitting_risk"
   ]
  },
  {
   "cell_type": "markdown",
   "id": "7d91fa85-c260-42ed-b952-480685f8a3cd",
   "metadata": {
    "scrolled": true
   },
   "source": [
    "def objective(classifier_name, trial, X_train, y_train):\n",
    "    \"\"\" Modelos:\n",
    "                LogisticRegression : 'logit',\n",
    "                RandomForestClassifier: 'RF',\n",
    "                SVC: 'svc',\n",
    "                GaussianNB: 'Naive',\n",
    "                GradientBoostingClassifier: 'gbm',\n",
    "                KNeighborsClassifier: 'Knn',\n",
    "                DecisionTreeClassifier: 'dt'\n",
    "    \"\"\"\n",
    "    \n",
    "    if classifier_name == \"logit\":\n",
    "        logit_penalty = trial.suggest_categorical('logit_penalty', ['l1', 'l2'])\n",
    "        logit_c = trial.suggest_float('logit_c', 1e-3, 1e3, log=True)\n",
    "        logit_solver = trial.suggest_categorical('logit_solver', ['liblinear', 'saga'])\n",
    "        logit_max_iter = trial.suggest_int('logit_max_iter', 100, 500)\n",
    "        \n",
    "        model = LogisticRegression(\n",
    "            penalty=logit_penalty,\n",
    "            C=logit_c,\n",
    "            solver=logit_solver,\n",
    "            max_iter=logit_max_iter\n",
    "        )\n",
    "\n",
    "    elif classifier_name == \"RF\":\n",
    "        rf_n_estimators = trial.suggest_int(\"rf_n_estimators\", 10, 200)\n",
    "        rf_max_depth = trial.suggest_int(\"rf_max_depth\", 1, 30)\n",
    "        rf_min_samples_split = trial.suggest_int(\"rf_min_samples_split\", 2, 400)\n",
    "        rf_min_samples_leaf = trial.suggest_int(\"rf_min_samples_leaf\", 1, 400)\n",
    "        rf_max_features = trial.suggest_categorical(\"rf_max_features\", [None, 'sqrt', 'log2'])\n",
    "        rf_bootstrap = trial.suggest_categorical('rf_bootstrap', [True, False])\n",
    "\n",
    "        model = RandomForestClassifier(\n",
    "            n_estimators=rf_n_estimators,\n",
    "            max_depth=rf_max_depth,\n",
    "            min_samples_split=rf_min_samples_split,\n",
    "            min_samples_leaf=rf_min_samples_leaf,\n",
    "            max_features=rf_max_features,\n",
    "            bootstrap=rf_bootstrap,\n",
    "            random_state=42,\n",
    "            n_jobs=-1\n",
    "        )\n",
    "        \n",
    "    elif classifier_name == \"dt\":\n",
    "        dt_max_depth = trial.suggest_int(\"dt_max_depth\", 1, 25)\n",
    "        dt_min_samples_split = trial.suggest_int(\"dt_min_samples_split\", 2, 400)\n",
    "        dt_min_samples_leaf = trial.suggest_int(\"dt_min_samples_leaf\", 1, 400)\n",
    "        dt_criterion = trial.suggest_categorical(\"dt_criterion\", [\"gini\", \"entropy\"])\n",
    "\n",
    "        model = DecisionTreeClassifier(\n",
    "            max_depth=dt_max_depth,\n",
    "            min_samples_split=dt_min_samples_split,\n",
    "            min_samples_leaf=dt_min_samples_leaf,\n",
    "            criterion=dt_criterion,\n",
    "            random_state=42\n",
    "        )\n",
    "        \n",
    "    elif classifier_name == \"svc\":\n",
    "        svc_c = trial.suggest_float('svc_c', 1e-2, 1e2, log=True)\n",
    "        svc_kernel = trial.suggest_categorical('svc_kernel', ['linear', 'poly', 'rbf', 'sigmoid'])\n",
    "        svc_gamma = trial.suggest_categorical('svc_gamma', ['scale', 'auto'])\n",
    "        svc_degree = trial.suggest_int('svc_degree', 2, 4)\n",
    "\n",
    "        model = SVC(\n",
    "            C=svc_c,\n",
    "            kernel=svc_kernel,\n",
    "            gamma=svc_gamma,\n",
    "            degree=svc_degree,\n",
    "            random_state=42\n",
    "        )\n",
    "        \n",
    "    elif classifier_name == \"Naive\":\n",
    "        naive_var_smoothing = trial.suggest_float('naive_var_smoothing', 1e-9, 1e0, log=True)\n",
    "        \n",
    "        model = GaussianNB(var_smoothing=naive_var_smoothing)\n",
    "\n",
    "    elif classifier_name == \"Knn\":\n",
    "        knn_n_neighbors = trial.suggest_int('knn_n_neighbors', 3, 20, step=2)\n",
    "        knn_weights = trial.suggest_categorical('knn_weights', ['uniform', 'distance'])\n",
    "        knn_p = trial.suggest_int('knn_p', 1, 2)\n",
    "\n",
    "        model = KNeighborsClassifier(\n",
    "            n_neighbors=knn_n_neighbors,\n",
    "            weights=knn_weights,\n",
    "            p=knn_p\n",
    "        )\n",
    "        \n",
    "    elif classifier_name == \"gbm\":\n",
    "        gbm_n_estimators = trial.suggest_int(\"gbm_n_estimators\", 10, 50)\n",
    "        gbm_learning_rate = trial.suggest_float(\"gbm_learning_rate\", 0.01, 0.2)\n",
    "        gbm_max_depth = trial.suggest_int(\"gbm_max_depth\", 1, 25)\n",
    "        gbm_min_samples_split = trial.suggest_int(\"gbm_min_samples_split\", 2, 100)\n",
    "        gbm_min_samples_leaf = trial.suggest_int(\"gbm_min_samples_leaf\", 1, 200)\n",
    "        gbm_max_features = trial.suggest_categorical(\"gbm_max_features\", ['sqrt', 'log2', None])\n",
    "\n",
    "        model = GradientBoostingClassifier(\n",
    "            n_estimators=gbm_n_estimators,\n",
    "            learning_rate=gbm_learning_rate,\n",
    "            max_depth=gbm_max_depth,\n",
    "            min_samples_split=gbm_min_samples_split,\n",
    "            min_samples_leaf=gbm_min_samples_leaf,\n",
    "            max_features=gbm_max_features,\n",
    "            random_state=42\n",
    "        )\n",
    "\n",
    "    # Llamamos a model_evaluation para obtener las métricas\n",
    "    df, overfitting_risk = model_evaluation(model, X_train, y_train)\n",
    "\n",
    "    # Obtener la métrica de exactitud para Optuna\n",
    "    mean_test_score = df.loc['test_set', 'interval_lower']  # Accediendo al límite inferior del test\n",
    "    trial.report(mean_test_score, step=0)\n",
    "\n",
    "    # Comprobar si se debe podar\n",
    "    if trial.should_prune():\n",
    "        raise optuna.TrialPruned()\n",
    "\n",
    "    return mean_test_score, df, overfitting_risk"
   ]
  },
  {
   "cell_type": "code",
   "execution_count": 26,
   "id": "df75ab75-f7c9-4910-86dd-30d22a321008",
   "metadata": {},
   "outputs": [],
   "source": [
    "def objective(classifier_name, trial, X_train, y_train):\n",
    "    \"\"\" Optimización de hiperparámetros con Optuna. Los rangos de los hiperparámetros \n",
    "    se ajustan según el tamaño del conjunto de datos.\n",
    "    \"\"\"\n",
    "    # Obtener el número de muestras y características\n",
    "    n_samples, n_features = X_train.shape\n",
    "\n",
    "    # Ajuste inicial según el número de características (n_features)\n",
    "    if n_features <= 14:\n",
    "        logit_c_range = (1e-3, 1e3)\n",
    "        rf_n_estimators_range = (10, 100)\n",
    "        knn_n_neighbors_range = (3, 10)\n",
    "        dt_max_depth_range = (3, 10)\n",
    "    elif n_features <= 30:\n",
    "        logit_c_range = (1e-2, 1e2)\n",
    "        rf_n_estimators_range = (50, 200)\n",
    "        knn_n_neighbors_range = (3, 20)\n",
    "        dt_max_depth_range = (5, 15)\n",
    "    else:\n",
    "        logit_c_range = (1e-1, 1e1)\n",
    "        rf_n_estimators_range = (100, 500)\n",
    "        knn_n_neighbors_range = (3, 50)\n",
    "        dt_max_depth_range = (10, 25)\n",
    "\n",
    "    # Ajuste según el número de muestras (n_samples)\n",
    "    if n_samples < 1000:\n",
    "        # Si hay menos de 1000 muestras, generalmente el modelo debe ser más simple\n",
    "        rf_n_estimators_range = (10, 100)  # Menos árboles para evitar sobreajuste\n",
    "        logit_c_range = (1e-3, 1e3)  # Más regularización en modelos lineales\n",
    "        svc_c_range = (1e-2, 1e2)  # Regularización más fuerte\n",
    "        knn_n_neighbors_range = (3, 10)  # Menos vecinos\n",
    "        dt_max_depth_range = (1, 10)  # Menos profundidad en los árboles\n",
    "    elif n_samples < 10000:\n",
    "        # Para 1000 < n_samples < 10000, el modelo puede ser más complejo\n",
    "        rf_n_estimators_range = (50, 300)  # Más árboles\n",
    "        logit_c_range = (1e-2, 1e2)  # Menos regularización\n",
    "        svc_c_range = (1e-1, 1e2)\n",
    "        knn_n_neighbors_range = (3, 20)  # Más vecinos\n",
    "        dt_max_depth_range = (1, 15)  # Mayor profundidad\n",
    "    else:\n",
    "        # Si tenemos más de 10000 muestras, podemos permitir más complejidad\n",
    "        rf_n_estimators_range = (100, 500)  # Mucho más árboles\n",
    "        logit_c_range = (1e-1, 1e1)  # Menos regularización\n",
    "        svc_c_range = (1e-1, 1e3)  # Regularización más baja\n",
    "        knn_n_neighbors_range = (3, 50)  # Más vecinos\n",
    "        dt_max_depth_range = (5, 25)  # Más profundidad\n",
    "\n",
    "    # Selección de parámetros según el modelo\n",
    "    if classifier_name == \"logit\":\n",
    "        logit_penalty = trial.suggest_categorical('logit_penalty', ['l1', 'l2'])\n",
    "        logit_c = trial.suggest_float('logit_c', logit_c_range[0], logit_c_range[1], log=True)\n",
    "        logit_solver = trial.suggest_categorical('logit_solver', ['liblinear', 'saga'])\n",
    "        logit_max_iter = trial.suggest_int('logit_max_iter', 100, 500)\n",
    "\n",
    "        model = LogisticRegression(\n",
    "            penalty=logit_penalty,\n",
    "            C=logit_c,\n",
    "            solver=logit_solver,\n",
    "            max_iter=logit_max_iter\n",
    "        )\n",
    "\n",
    "    elif classifier_name == \"RF\":\n",
    "        rf_n_estimators = trial.suggest_int(\"rf_n_estimators\", rf_n_estimators_range[0], rf_n_estimators_range[1])\n",
    "        rf_max_depth = trial.suggest_int(\"rf_max_depth\", 1, 30)\n",
    "        rf_min_samples_split = trial.suggest_int(\"rf_min_samples_split\", 2, 400)\n",
    "        rf_min_samples_leaf = trial.suggest_int(\"rf_min_samples_leaf\", 1, 400)\n",
    "        rf_max_features = trial.suggest_categorical(\"rf_max_features\", [None, 'sqrt', 'log2'])\n",
    "        rf_bootstrap = trial.suggest_categorical('rf_bootstrap', [True, False])\n",
    "\n",
    "        model = RandomForestClassifier(\n",
    "            n_estimators=rf_n_estimators,\n",
    "            max_depth=rf_max_depth,\n",
    "            min_samples_split=rf_min_samples_split,\n",
    "            min_samples_leaf=rf_min_samples_leaf,\n",
    "            max_features=rf_max_features,\n",
    "            bootstrap=rf_bootstrap,\n",
    "            random_state=42,\n",
    "            n_jobs=-1\n",
    "        )\n",
    "\n",
    "    elif classifier_name == \"dt\":\n",
    "        dt_max_depth = trial.suggest_int(\"dt_max_depth\", dt_max_depth_range[0], dt_max_depth_range[1])\n",
    "        dt_min_samples_split = trial.suggest_int(\"dt_min_samples_split\", 2, 400)\n",
    "        dt_min_samples_leaf = trial.suggest_int(\"dt_min_samples_leaf\", 1, 400)\n",
    "        dt_criterion = trial.suggest_categorical(\"dt_criterion\", [\"gini\", \"entropy\"])\n",
    "\n",
    "        model = DecisionTreeClassifier(\n",
    "            max_depth=dt_max_depth,\n",
    "            min_samples_split=dt_min_samples_split,\n",
    "            min_samples_leaf=dt_min_samples_leaf,\n",
    "            criterion=dt_criterion,\n",
    "            random_state=42\n",
    "        )\n",
    "\n",
    "    elif classifier_name == \"svc\":\n",
    "        svc_c = trial.suggest_float('svc_c', svc_c_range[0], svc_c_range[1], log=True)\n",
    "        svc_kernel = trial.suggest_categorical('svc_kernel', ['linear', 'poly'])\n",
    "        svc_gamma = trial.suggest_categorical('svc_gamma', ['scale', 'auto'])\n",
    "        svc_degree = trial.suggest_int('svc_degree', 2, 4)\n",
    "\n",
    "        model = SVC(\n",
    "            C=svc_c,\n",
    "            kernel=svc_kernel,\n",
    "            gamma=svc_gamma,\n",
    "            degree=svc_degree,\n",
    "            random_state=42\n",
    "        )\n",
    "\n",
    "    elif classifier_name == \"Naive\":\n",
    "        naive_var_smoothing = trial.suggest_float('naive_var_smoothing', 1e-3, 1e0, log=True)\n",
    "\n",
    "        model = GaussianNB(var_smoothing=naive_var_smoothing)\n",
    "\n",
    "    elif classifier_name == \"Knn\":\n",
    "        knn_n_neighbors = trial.suggest_int('knn_n_neighbors', knn_n_neighbors_range[0], knn_n_neighbors_range[1], step=2)\n",
    "        knn_weights = trial.suggest_categorical('knn_weights', ['uniform', 'distance'])\n",
    "        knn_p = trial.suggest_int('knn_p', 1, 2)\n",
    "\n",
    "        model = KNeighborsClassifier(\n",
    "            n_neighbors=knn_n_neighbors,\n",
    "            weights=knn_weights,\n",
    "            p=knn_p\n",
    "        )\n",
    "\n",
    "    elif classifier_name == \"gbm\":\n",
    "        gbm_n_estimators = trial.suggest_int(\"gbm_n_estimators\", 10, 50)\n",
    "        gbm_learning_rate = trial.suggest_float(\"gbm_learning_rate\", 0.01, 0.2)\n",
    "        gbm_max_depth = trial.suggest_int(\"gbm_max_depth\", 1, 25)\n",
    "        gbm_min_samples_split = trial.suggest_int(\"gbm_min_samples_split\", 2, 100)\n",
    "        gbm_min_samples_leaf = trial.suggest_int(\"gbm_min_samples_leaf\", 1, 200)\n",
    "        gbm_max_features = trial.suggest_categorical(\"gbm_max_features\", ['sqrt', 'log2', None])\n",
    "\n",
    "        model = GradientBoostingClassifier(\n",
    "            n_estimators=gbm_n_estimators,\n",
    "            learning_rate=gbm_learning_rate,\n",
    "            max_depth=gbm_max_depth,\n",
    "            min_samples_split=gbm_min_samples_split,\n",
    "            min_samples_leaf=gbm_min_samples_leaf,\n",
    "            max_features=gbm_max_features,\n",
    "            random_state=42\n",
    "        )\n",
    "\n",
    "    # Llamada a la función de evaluación del modelo\n",
    "    df, overfitting_risk = model_evaluation(model, X_train, y_train)\n",
    "\n",
    "    # Obtener la métrica de exactitud para Optuna\n",
    "    mean_test_score = df.loc['test_set', 'interval_lower']\n",
    "    trial.report(mean_test_score, step=0)\n",
    "\n",
    "    # Verificar si se debe podar el trial\n",
    "    if trial.should_prune():\n",
    "        raise optuna.TrialPruned()\n",
    "\n",
    "    return mean_test_score, df, overfitting_risk"
   ]
  },
  {
   "cell_type": "code",
   "execution_count": 27,
   "id": "b69e1587-e17a-4c30-a3cd-d84f06ccd469",
   "metadata": {},
   "outputs": [],
   "source": [
    "def run_optimization(classifiers, n_trials=10, output_csv=\"resultados_trials.csv\", X_train=None, y_train=None):\n",
    "    \"\"\"\n",
    "    Función para ejecutar la optimización con múltiples clasificadores y almacenar resultados.\n",
    "    \n",
    "    Parámetros:\n",
    "    - classifiers: lista de nombres de clasificadores o un solo clasificador.\n",
    "    - n_trials: número de trials para cada optimización.\n",
    "    - output_csv: nombre del archivo CSV donde se almacenarán los resultados.\n",
    "    \"\"\"\n",
    "    \n",
    "    if isinstance(classifiers, str):  # Convertir en lista si es un solo clasificador\n",
    "        classifiers = [classifiers]\n",
    "\n",
    "    all_results = {}\n",
    "\n",
    "    # Iterar sobre cada clasificador\n",
    "    for classifier in classifiers:\n",
    "        # Crear un nuevo estudio para cada clasificador\n",
    "        study = optuna.create_study(\n",
    "            direction=\"maximize\",                   # Segun la metrica a mejorar su valor se puede maximizar o minimizar\n",
    "            sampler=optuna.samplers.RandomSampler(),\n",
    "        )\n",
    "        \n",
    "        # Optimizar el estudio con la función objetivo\n",
    "        study.optimize(lambda trial: objective(classifier, trial, X_train, y_train)[0], n_trials=n_trials)\n",
    "         \n",
    "        # Crear un diccionario específico para este clasificador\n",
    "        classifier_results = []\n",
    "        \n",
    "        # Guardar cada trial del estudio en el diccionario\n",
    "        for trial in study.trials:\n",
    "            _, metrics, overfitting_risk = objective(classifier, trial, X_train, y_train)\n",
    "            \n",
    "            # Guardar todos los resultados del trial\n",
    "            classifier_results.append({\n",
    "                'trial_number': trial.number,\n",
    "                'value': trial.value,\n",
    "                'params': trial.params,\n",
    "                'metrics': metrics,\n",
    "                'overfitting_risk': overfitting_risk\n",
    "            })\n",
    "        \n",
    "        # Almacenar los resultados del clasificador actual\n",
    "        all_results[classifier] = {\n",
    "            'best_value': study.best_value,\n",
    "            'best_params': study.best_params,\n",
    "            'all_trials': classifier_results\n",
    "        }\n",
    "\n",
    "    # Convertir los resultados en un DataFrame\n",
    "    trials = []\n",
    "    \n",
    "    for model, metrics in all_results.items():\n",
    "        all_trials = metrics['all_trials']\n",
    "        \n",
    "        for trial in all_trials:\n",
    "            trial_data = {\n",
    "                'Model': model,\n",
    "                'Trial Number': trial['trial_number'],\n",
    "                'Value': trial['value'],\n",
    "                'Mean Train Score': trial['metrics']['mean']['train_set'],\n",
    "                'Mean Test Score': trial['metrics']['mean']['test_set'],\n",
    "                'Train Std': trial['metrics']['std']['train_set'],\n",
    "                'Test Std': trial['metrics']['std']['test_set'],\n",
    "                'Overfitting Risk': trial['overfitting_risk']['overfitting_likelihood'],\n",
    "                'p_value': round(trial['overfitting_risk']['p_value'], 4)\n",
    "            }\n",
    "            \n",
    "            trial_data.update(trial['params'])\n",
    "            trials.append(trial_data)\n",
    "    \n",
    "    # Convertir a DataFrame y guardar en CSV\n",
    "    results_df = pd.DataFrame(trials)\n",
    "    results_df.to_csv(output_csv, index=False)\n",
    "    print(f\"Resultados guardados en '{output_csv}'\")"
   ]
  },
  {
   "cell_type": "code",
   "execution_count": 28,
   "id": "7a53a224-e431-4293-b775-040d61159d46",
   "metadata": {},
   "outputs": [],
   "source": [
    "def update_parameters_trials(classifiers, X_train, y_train, csv_file=\"parameters_trials.csv\"):\n",
    "    # Verificar si el archivo CSV ya existe\n",
    "    if os.path.exists(csv_file):\n",
    "        # Leer el CSV existente\n",
    "        trials_df = pd.read_csv(csv_file)\n",
    "        print(f\"Archivo {csv_file} leído correctamente.\")\n",
    "        \n",
    "        # Verificar si el CSV tiene registros\n",
    "        if trials_df.empty:\n",
    "            print(\"El archivo CSV está vacío.\")\n",
    "        else:\n",
    "            print(f\"El archivo CSV contiene {len(trials_df)} registros previos.\")\n",
    "    else:\n",
    "        # Si no existe el archivo, crear un nuevo DataFrame con las columnas predeterminadas\n",
    "        trials_df = pd.DataFrame(columns=[\"Model\", \"Trial Number\", \"Value\", \"Mean Train Score\", \n",
    "                                          \"Mean Test Score\", \"Train Std\", \"Test Std\", \"Overfitting Risk\", \n",
    "                                          \"p_value\", \"rf_n_estimators\", \"rf_max_depth\", \"rf_min_samples_split\", \n",
    "                                          \"rf_min_samples_leaf\", \"rf_max_features\", \"rf_bootstrap\", \"naive_var_smoothing\", \n",
    "                                          \"gbm_n_estimators\", \"gbm_learning_rate\", \"gbm_max_depth\", \"gbm_min_samples_split\", \n",
    "                                          \"gbm_min_samples_leaf\", \"gbm_max_features\", \"knn_n_neighbors\", \"knn_weights\", \n",
    "                                          \"knn_p\", \"dt_max_depth\", \"dt_min_samples_split\", \"dt_min_samples_leaf\", \"dt_criterion\"])\n",
    "        print(f\"El archivo {csv_file} no existe. Se creará uno nuevo.\")\n",
    "    \n",
    "    # Obtener los modelos que ya están en el CSV\n",
    "    models_in_csv = trials_df['Model'].unique().tolist()\n",
    "    print(f\"Modelos en el archivo CSV: {models_in_csv}\")\n",
    "    \n",
    "    # Filtrar los modelos que no están en el CSV\n",
    "    missing_models = [model for model in classifiers if model not in models_in_csv]\n",
    "    print(f\"Modelos faltantes que necesitan optimización: {missing_models}\")\n",
    "\n",
    "    # Si hay modelos faltantes, ejecutar la optimización\n",
    "    if missing_models:\n",
    "        for model in missing_models:\n",
    "            print(f\"Ejecutando optimización para {model}...\")\n",
    "            \n",
    "            # Ejecutar la optimización para el modelo faltante\n",
    "            run_optimization(classifiers=[model], n_trials = 5, output_csv=csv_file, X_train=X_train, y_train=y_train)\n",
    "            \n",
    "            # Leer el CSV actualizado después de la optimización\n",
    "            trials_df_new = pd.read_csv(csv_file)\n",
    "            print(f\"Resultados de optimización para {model} añadidos al archivo.\")\n",
    "            \n",
    "            # Asegurarse de no duplicar los registros (si ya están en trials_df)\n",
    "            trials_df = pd.concat([trials_df, trials_df_new], ignore_index=True).drop_duplicates(subset=[\"Model\", \"Trial Number\"])\n",
    "\n",
    "    # Verificar si todos los modelos de la lista ya están en el CSV\n",
    "    if all(model in trials_df['Model'].unique() for model in classifiers):\n",
    "        # Añadir la fila de 'Busqueda finalizada' si no existe\n",
    "        if 'Busqueda finalizada' not in trials_df['Model'].values:\n",
    "            # Crear la fila de 'Busqueda finalizada'\n",
    "            final_row = pd.DataFrame([['Busqueda finalizada'] + [None] * (trials_df.shape[1] - 1)],\n",
    "                                     columns=trials_df.columns)\n",
    "            \n",
    "            # Eliminar las columnas vacías o todas-NaN en final_row\n",
    "            final_row = final_row.dropna(axis=1, how='all')\n",
    "\n",
    "            # Concatenar la fila sin los valores vacíos\n",
    "            trials_df = pd.concat([trials_df, final_row], ignore_index=True)\n",
    "            print(f\"Fila 'Busqueda finalizada' añadida al archivo.\")\n",
    "\n",
    "    # Ahora, guardar los resultados en el CSV. Si el archivo existe, se debe agregar sin sobrescribir encabezados.\n",
    "    trials_df.to_csv(csv_file, mode='a', header=True, index=False)  # Sobreescribe el archivo completo sin eliminar las filas anteriores\n",
    "    print(f\"Resultados agregados al archivo {csv_file}.\")"
   ]
  },
  {
   "cell_type": "code",
   "execution_count": null,
   "id": "669c03ff-40ff-4848-a333-5585cd321af8",
   "metadata": {},
   "outputs": [],
   "source": []
  },
  {
   "cell_type": "code",
   "execution_count": null,
   "id": "1d0e0e7d-037e-427f-a312-b80f71d2d191",
   "metadata": {},
   "outputs": [],
   "source": []
  },
  {
   "cell_type": "code",
   "execution_count": null,
   "id": "e701a579-c603-4c3c-aeb3-9b7bb2df39d0",
   "metadata": {},
   "outputs": [],
   "source": []
  },
  {
   "cell_type": "code",
   "execution_count": 29,
   "id": "3d89bc47-6b78-4ce2-bf5a-f791d2c1d513",
   "metadata": {
    "scrolled": true
   },
   "outputs": [],
   "source": [
    "# Lista de clasificadores\n",
    "classifiers = ['logit', 'Naive', 'Knn'] # Saque 'Knn','gbm', 'RF', 'svc','dt'  por costos computacionales"
   ]
  },
  {
   "cell_type": "code",
   "execution_count": null,
   "id": "d357181a-960c-4559-bd25-6cd0f9b1998b",
   "metadata": {
    "scrolled": true
   },
   "outputs": [
    {
     "name": "stderr",
     "output_type": "stream",
     "text": [
      "[I 2024-11-07 17:44:44,467] A new study created in memory with name: no-name-bc28f723-bb82-4c66-8869-e8f7d5955461\n"
     ]
    },
    {
     "name": "stdout",
     "output_type": "stream",
     "text": [
      "El archivo ../Medical Appointment No Show/parameters_trials.csv no existe. Se creará uno nuevo.\n",
      "Modelos en el archivo CSV: []\n",
      "Modelos faltantes que necesitan optimización: ['logit', 'Naive', 'Knn']\n",
      "Ejecutando optimización para logit...\n"
     ]
    },
    {
     "name": "stderr",
     "output_type": "stream",
     "text": [
      "[I 2024-11-07 17:44:53,011] Trial 0 finished with value: 0.001059857931630919 and parameters: {'logit_penalty': 'l1', 'logit_c': 0.7941415604869155, 'logit_solver': 'liblinear', 'logit_max_iter': 450}. Best is trial 0 with value: 0.001059857931630919.\n",
      "[I 2024-11-07 17:44:56,537] Trial 1 finished with value: 0.0018520386650932924 and parameters: {'logit_penalty': 'l2', 'logit_c': 2.925813079279621, 'logit_solver': 'liblinear', 'logit_max_iter': 190}. Best is trial 1 with value: 0.0018520386650932924.\n",
      "[I 2024-11-07 17:45:01,659] Trial 2 finished with value: 0.0019056215981303939 and parameters: {'logit_penalty': 'l1', 'logit_c': 6.663938702244837, 'logit_solver': 'liblinear', 'logit_max_iter': 323}. Best is trial 2 with value: 0.0019056215981303939.\n",
      "[I 2024-11-07 17:45:10,382] Trial 3 finished with value: 0.0015477099338000577 and parameters: {'logit_penalty': 'l1', 'logit_c': 1.4893993551267697, 'logit_solver': 'saga', 'logit_max_iter': 218}. Best is trial 2 with value: 0.0019056215981303939.\n",
      "[I 2024-11-07 17:45:17,297] Trial 4 finished with value: 0.0003773552652698124 and parameters: {'logit_penalty': 'l2', 'logit_c': 0.37977955378127304, 'logit_solver': 'saga', 'logit_max_iter': 154}. Best is trial 2 with value: 0.0019056215981303939.\n",
      "C:\\Users\\germa\\AppData\\Local\\Temp\\ipykernel_11144\\2015014809.py:45: FutureWarning: The behavior of DataFrame concatenation with empty or all-NA entries is deprecated. In a future version, this will no longer exclude empty or all-NA columns when determining the result dtypes. To retain the old behavior, exclude the relevant entries before the concat operation.\n",
      "  trials_df = pd.concat([trials_df, trials_df_new], ignore_index=True).drop_duplicates(subset=[\"Model\", \"Trial Number\"])\n",
      "[I 2024-11-07 17:45:48,935] A new study created in memory with name: no-name-9abc9879-438e-4c3b-8a0a-17aa76689966\n"
     ]
    },
    {
     "name": "stdout",
     "output_type": "stream",
     "text": [
      "Resultados guardados en '../Medical Appointment No Show/parameters_trials.csv'\n",
      "Resultados de optimización para logit añadidos al archivo.\n",
      "Ejecutando optimización para Naive...\n"
     ]
    },
    {
     "name": "stderr",
     "output_type": "stream",
     "text": [
      "[I 2024-11-07 17:45:50,461] Trial 0 finished with value: 0.25386804017097964 and parameters: {'naive_var_smoothing': 0.011649554684104514}. Best is trial 0 with value: 0.25386804017097964.\n",
      "[I 2024-11-07 17:45:51,976] Trial 1 finished with value: 0.22965366092217426 and parameters: {'naive_var_smoothing': 0.035855098802221985}. Best is trial 0 with value: 0.25386804017097964.\n",
      "[I 2024-11-07 17:45:53,446] Trial 2 finished with value: 0.0 and parameters: {'naive_var_smoothing': 0.8644131513366323}. Best is trial 0 with value: 0.25386804017097964.\n",
      "[I 2024-11-07 17:45:54,941] Trial 3 finished with value: 0.2448874117959151 and parameters: {'naive_var_smoothing': 0.022085584784770705}. Best is trial 0 with value: 0.25386804017097964.\n",
      "[I 2024-11-07 17:45:56,418] Trial 4 finished with value: 0.25946000278082987 and parameters: {'naive_var_smoothing': 0.0038767017191051667}. Best is trial 4 with value: 0.25946000278082987.\n",
      "C:\\Users\\germa\\AppData\\Local\\Temp\\ipykernel_11144\\2015014809.py:45: FutureWarning: The behavior of DataFrame concatenation with empty or all-NA entries is deprecated. In a future version, this will no longer exclude empty or all-NA columns when determining the result dtypes. To retain the old behavior, exclude the relevant entries before the concat operation.\n",
      "  trials_df = pd.concat([trials_df, trials_df_new], ignore_index=True).drop_duplicates(subset=[\"Model\", \"Trial Number\"])\n",
      "[I 2024-11-07 17:46:04,600] A new study created in memory with name: no-name-d3484d7d-d5f0-4fdb-bd45-6098ff746c4b\n"
     ]
    },
    {
     "name": "stdout",
     "output_type": "stream",
     "text": [
      "Resultados guardados en '../Medical Appointment No Show/parameters_trials.csv'\n",
      "Resultados de optimización para Naive añadidos al archivo.\n",
      "Ejecutando optimización para Knn...\n"
     ]
    },
    {
     "name": "stderr",
     "output_type": "stream",
     "text": [
      "C:\\Users\\germa\\anaconda3\\envs\\tensorflow_env\\lib\\site-packages\\optuna\\distributions.py:704: UserWarning: The distribution is specified by [3, 50] and step=2, but the range is not divisible by `step`. It will be replaced by [3, 49].\n",
      "  warnings.warn(\n"
     ]
    }
   ],
   "source": [
    "update_parameters_trials(classifiers, \n",
    "                         X_train = X_train, \n",
    "                         y_train= y_train, \n",
    "                         csv_file=\"../Medical Appointment No Show/parameters_trials.csv\"\n",
    "                        )"
   ]
  },
  {
   "cell_type": "code",
   "execution_count": null,
   "id": "233181ac-dc8b-4336-aca5-5a8d59d61670",
   "metadata": {},
   "outputs": [],
   "source": []
  },
  {
   "cell_type": "markdown",
   "id": "b2dc4fd5-5724-43bc-9a09-b950085cff29",
   "metadata": {},
   "source": [
    "[I 2024-11-07 15:22:31,901] Trial 3 finished with value: 0.1889558984430899 and parameters: {'knn_n_neighbors': 3, 'knn_weights': 'uniform', 'knn_p': 2}. Best is trial 3 with value: 0.1889558984430899."
   ]
  },
  {
   "cell_type": "code",
   "execution_count": null,
   "id": "8f990b7e-1a05-46a2-971f-7f6082d4a029",
   "metadata": {},
   "outputs": [],
   "source": []
  },
  {
   "cell_type": "markdown",
   "id": "f6285b59-355d-4d72-8d58-c0ca66baabad",
   "metadata": {},
   "source": [
    "[I 2024-11-07 17:03:47,540] Trial 0 finished with value: 0.0013290914721479875 and parameters: {'logit_penalty': 'l2', 'logit_c': 1.0991032282497641, 'logit_solver': 'liblinear', 'logit_max_iter': 448}. Best is trial 0 with value: 0.0013290914721479875.\n",
    "[I 2024-11-07 17:03:54,995] Trial 1 finished with value: 0.0003773552652698124 and parameters: {'logit_penalty': 'l2', 'logit_c': 0.396536515383867, 'logit_solver': 'saga', 'logit_max_iter': 227}. Best is trial 0 with value: 0.0013290914721479875.\n",
    "[I 2024-11-07 17:04:01,832] Trial 2 finished with value: 0.0003773552652698124 and parameters: {'logit_penalty': 'l2', 'logit_c': 0.38321261497114983, 'logit_solver': 'saga', 'logit_max_iter': 313}. Best is trial 0 with value: 0.0013290914721479875.\n",
    "[I 2024-11-07 17:04:12,431] Trial 3 finished with value: 0.0017212609470571702 and parameters: {'logit_penalty': 'l1', 'logit_c': 3.7091326411529417, 'logit_solver': 'saga', 'logit_max_iter': 409}. Best is trial 3 with value: 0.0017212609470571702.\n",
    "[I 2024-11-07 17:04:15,832] Trial 4 finished with value: 0.0019056215981303939 and parameters: {'logit_penalty': 'l2', 'logit_c': 4.901062206948824, 'logit_solver': 'liblinear', 'logit_max_iter': 480}. Best is trial 4 with value: 0.0019056215981303939.\n",
    "C:\\Users\\germa\\AppData\\Local\\Temp\\ipykernel_8592\\3973231319.py:45: FutureWarning: The behavior of DataFrame concatenation with empty or all-NA entries is deprecated. In a future version, this will no longer exclude empty or all-NA columns when determining the result dtypes. To retain the old behavior, exclude the relevant entries before the concat operation.\n",
    "  trials_df = pd.concat([trials_df, trials_df_new], ignore_index=True).drop_duplicates(subset=[\"Model\", \"Trial Number\"])\n",
    "[I 2024-11-07 17:04:46,749] A new study created in memory with name: no-name-765e289a-9d3f-473f-a2fb-d7c3b1208942\n",
    "Resultados guardados en '../Medical Appointment No Show/parameters_trials.csv'\n",
    "Resultados de optimización para logit añadidos al archivo.\n",
    "Ejecutando optimización para Naive...\n",
    "[I 2024-11-07 17:04:48,214] Trial 0 finished with value: 0.23450910162857483 and parameters: {'naive_var_smoothing': 2.8806339598702503e-05}. Best is trial 0 with value: 0.23450910162857483.\n",
    "[I 2024-11-07 17:04:49,666] Trial 1 finished with value: 0.23277481984982112 and parameters: {'naive_var_smoothing': 9.050486383337835e-08}. Best is trial 0 with value: 0.23450910162857483.\n",
    "[I 2024-11-07 17:04:51,094] Trial 2 finished with value: 0.2366141022452186 and parameters: {'naive_var_smoothing': 0.029624081373876558}. Best is trial 2 with value: 0.2366141022452186.\n",
    "[I 2024-11-07 17:04:52,555] Trial 3 finished with value: 0.23277481984982112 and parameters: {'naive_var_smoothing': 6.667584284509008e-08}. Best is trial 2 with value: 0.2366141022452186.\n",
    "[I 2024-11-07 17:04:53,998] Trial 4 finished with value: 0.23275787157342565 and parameters: {'naive_var_smoothing': 7.450708352397703e-06}. Best is trial 2 with value: 0.2366141022452186.\n",
    "C:\\Users\\germa\\AppData\\Local\\Temp\\ipykernel_8592\\3973231319.py:45: FutureWarning: The behavior of DataFrame concatenation with empty or all-NA entries is deprecated. In a future version, this will no longer exclude empty or all-NA columns when determining the result dtypes. To retain the old behavior, exclude the relevant entries before the concat operation.\n",
    "  trials_df = pd.concat([trials_df, trials_df_new], ignore_index=True).drop_duplicates(subset=[\"Model\", \"Trial Number\"])\n",
    "[I 2024-11-07 17:05:01,675] A new study created in memory with name: no-name-9daad2c8-7eb4-4196-964b-fbc8723c233b\n",
    "Resultados guardados en '../Medical Appointment No Show/parameters_trials.csv'\n",
    "Resultados de optimización para Naive añadidos al archivo.\n",
    "Ejecutando optimización para gbm...\n",
    "[I 2024-11-07 17:05:13,035] Trial 0 finished with value: 0.0 and parameters: {'gbm_n_estimators': 21, 'gbm_learning_rate': 0.03965606760015659, 'gbm_max_depth': 11, 'gbm_min_samples_split': 3, 'gbm_min_samples_leaf': 148, 'gbm_max_features': 'log2'}. Best is trial 0 with value: 0.0.\n",
    "[I 2024-11-07 17:05:29,583] Trial 1 finished with value: -0.0013865675946750243 and parameters: {'gbm_n_estimators': 29, 'gbm_learning_rate': 0.08347114767242618, 'gbm_max_depth': 13, 'gbm_min_samples_split': 41, 'gbm_min_samples_leaf': 177, 'gbm_max_features': 'log2'}. Best is trial 0 with value: 0.0.\n",
    "[I 2024-11-07 17:05:39,262] Trial 2 finished with value: -0.0004592422502870264 and parameters: {'gbm_n_estimators': 30, 'gbm_learning_rate': 0.11789799703816617, 'gbm_max_depth': 6, 'gbm_min_samples_split': 89, 'gbm_min_samples_leaf': 137, 'gbm_max_features': 'log2'}. Best is trial 0 with value: 0.0.\n",
    "[I 2024-11-07 17:05:54,011] Trial 3 finished with value: 0.0 and parameters: {'gbm_n_estimators': 28, 'gbm_learning_rate': 0.04521210918043449, 'gbm_max_depth': 10, 'gbm_min_samples_split': 27, 'gbm_min_samples_leaf': 99, 'gbm_max_features': 'sqrt'}. Best is trial 0 with value: 0.0.\n",
    "[I 2024-11-07 17:06:14,923] Trial 4 finished with value: 0.0 and parameters: {'gbm_n_estimators': 32, 'gbm_learning_rate': 0.019160219868921746, 'gbm_max_depth': 14, 'gbm_min_samples_split': 65, 'gbm_min_samples_leaf': 93, 'gbm_max_features': 'sqrt'}. Best is trial 0 with value: 0.0.\n",
    "C:\\Users\\germa\\AppData\\Local\\Temp\\ipykernel_8592\\3973231319.py:45: FutureWarning: The behavior of DataFrame concatenation with empty or all-NA entries is deprecated. In a future version, this will no longer exclude empty or all-NA columns when determining the result dtypes. To retain the old behavior, exclude the relevant entries before the concat operation.\n",
    "  trials_df = pd.concat([trials_df, trials_df_new], ignore_index=True).drop_duplicates(subset=[\"Model\", \"Trial Number\"])\n",
    "[I 2024-11-07 17:07:27,235] A new study created in memory with name: no-name-4b22a49a-ed09-44c2-8ed0-ac84957e3466\n",
    "Resultados guardados en '../Medical Appointment No Show/parameters_trials.csv'\n",
    "Resultados de optimización para gbm añadidos al archivo.\n",
    "Ejecutando optimización para RF...\n",
    "[I 2024-11-07 17:08:25,987] Trial 0 finished with value: 0.0 and parameters: {'rf_n_estimators': 305, 'rf_max_depth': 17, 'rf_min_samples_split': 300, 'rf_min_samples_leaf': 67, 'rf_max_features': 'sqrt', 'rf_bootstrap': False}. Best is trial 0 with value: 0.0.\n",
    "[I 2024-11-07 17:08:47,776] Trial 1 finished with value: 0.0 and parameters: {'rf_n_estimators': 132, 'rf_max_depth': 21, 'rf_min_samples_split': 54, 'rf_min_samples_leaf': 364, 'rf_max_features': 'sqrt', 'rf_bootstrap': False}. Best is trial 0 with value: 0.0.\n",
    "[I 2024-11-07 17:09:12,414] Trial 2 finished with value: 0.0 and parameters: {'rf_n_estimators': 136, 'rf_max_depth': 24, 'rf_min_samples_split': 375, 'rf_min_samples_leaf': 63, 'rf_max_features': 'sqrt', 'rf_bootstrap': True}. Best is trial 0 with value: 0.0.\n",
    "[I 2024-11-07 17:09:31,021] Trial 3 finished with value: 0.0 and parameters: {'rf_n_estimators': 319, 'rf_max_depth': 2, 'rf_min_samples_split': 363, 'rf_min_samples_leaf': 205, 'rf_max_features': 'sqrt', 'rf_bootstrap': False}. Best is trial 0 with value: 0.0.\n",
    "[I 2024-11-07 17:14:20,336] Trial 4 finished with value: -0.0070102674365051625 and parameters: {'rf_n_estimators': 392, 'rf_max_depth': 30, 'rf_min_samples_split': 247, 'rf_min_samples_leaf': 190, 'rf_max_features': None, 'rf_bootstrap': False}. Best is trial 0 with value: 0.0.\n",
    "[I 2024-11-07 17:22:10,102] A new study created in memory with name: no-name-275b4e95-bf72-4c40-9b70-a0b56e03d410"
   ]
  },
  {
   "cell_type": "markdown",
   "id": "cef20c9b-6887-4049-9618-24a05b43e94c",
   "metadata": {},
   "source": [
    "Model,Trial Number,Value,Mean Train Score,Mean Test Score,Train Std,Test Std,Overfitting Risk,p_value,rf_n_estimators,rf_max_depth,rf_min_samples_split,rf_min_samples_leaf,rf_max_features,rf_bootstrap,logit_penalty,logit_c,logit_solver,logit_max_iter,naive_var_smoothing\n",
    "RF,0.0,0.0,0.0,0.0,0.0,0.0,Low,,305.0,17.0,300.0,67.0,sqrt,False,,,,,\n",
    "RF,1.0,0.0,0.0,0.0,0.0,0.0,Low,,132.0,21.0,54.0,364.0,sqrt,False,,,,,\n",
    "RF,2.0,0.0,0.0,0.0,0.0,0.0,Low,,136.0,24.0,375.0,63.0,sqrt,True,,,,,\n",
    "RF,3.0,0.0,0.0,0.0,0.0,0.0,Low,,319.0,2.0,363.0,205.0,sqrt,False,,,,,\n",
    "RF,4.0,-0.0070102674365051,0.0023639302814917,0.0016935348076118,0.003875894468451,0.0029012674147056,Low,0.6831,392.0,30.0,247.0,190.0,,False,,,,,\n",
    "logit,0.0,-0.0006283848205084,0.0035102864075683,0.0035499111149884,0.000308869032117,0.0013927653118322,Low,0.9353,,,,,,,l1,0.1239436201526919,liblinear,269.0,\n",
    "logit,1.0,0.0010598579316309,0.0055811923132406,0.0053543118845985,0.0005886508235058,0.0014314846509892,Low,0.668,,,,,,,l2,0.9660363961209014,saga,403.0,\n",
    "logit,2.0,0.0003182608979719,0.0052745769207944,0.0050710886567321,0.0005382634448791,0.0015842759195867,Low,0.7221,,,,,,,l1,0.4813736825656876,liblinear,192.0,\n",
    "logit,3.0,0.000585016825338,0.0054121461234094,0.005296273579317,0.0006111414044005,0.0014703820947654,Low,0.8309,,,,,,,l1,0.6203126684038435,liblinear,156.0,\n",
    "logit,4.0,-0.0001818740524908,0.0043361801714821,0.004285935436351,0.0004543889430963,0.0014892698296139,Low,0.9247,,,,,,,l2,0.1601454124586122,liblinear,221.0,\n",
    "Naive,0.0,0.0534748897759279,0.0696234698915306,0.0697719381535273,0.0022913445745888,0.0054323494591997,Low,0.941,,,,,,,,,,,0.1953804474794271\n",
    "Naive,1.0,0.2475743348617616,0.2919836396867561,0.2903385438009885,0.008823017528809,0.0142547363130756,Low,0.7725,,,,,,,,,,,0.0008580853304894\n",
    "Naive,2.0,0.2560892768212918,0.2952878431193049,0.2928563147198209,0.0057325819966345,0.0122556792995096,Low,0.5991,,,,,,,,,,,0.0025107011268776\n",
    "Naive,3.0,0.0313476516957735,0.0451793670141923,0.0453693094406918,0.001696294685439,0.0046738859149727,Low,0.9108,,,,,,,,,,,0.2278914397510185\n",
    "Naive,4.0,0.2459235123124427,0.2901692900556361,0.2889177363871755,0.0103195741744632,0.0143314080249109,Low,0.8343,,,,,,,,,,,0.0004977769691358"
   ]
  },
  {
   "cell_type": "code",
   "execution_count": null,
   "id": "e54780d0-894d-463f-894f-0f109b75f094",
   "metadata": {},
   "outputs": [],
   "source": []
  },
  {
   "cell_type": "code",
   "execution_count": null,
   "id": "8012949c-c94a-43d1-85ba-8d8ff701b4f5",
   "metadata": {},
   "outputs": [],
   "source": []
  },
  {
   "cell_type": "code",
   "execution_count": null,
   "id": "979108d9-4725-4d90-88b1-27d66058b98c",
   "metadata": {},
   "outputs": [],
   "source": [
    "# Lista de clasificadores\n",
    "classifiers = ['RF', 'Naive', 'gbm', 'Knn', 'dt']\n",
    "\n",
    "\n",
    "try:\n",
    "    # Intentar leer el archivo CSV\n",
    "    trials_df2 = pd.read_csv(\"../Medical Appointment No Show/parameters_trials2.csv\")\n",
    "    # Si la lectura es exitosa, el siguiente código se ejecutará\n",
    "    print(\"Archivo leído correctamente.\\n\")\n",
    "    \n",
    "except FileNotFoundError:\n",
    "    # Asegúrate de pasar X_train e y_train a run_optimization\n",
    "    run_optimization(classifiers=classifiers, n_trials = 120, output_csv = \"../Medical Appointment No Show/parameters_trials2.csv\", X_train = X_train_tree, y_train = y_train)\n",
    "    trials_df2 = pd.read_csv(\"../Medical Appointment No Show/parameters_trials2.csv\")\n",
    "    print('Search has ended')"
   ]
  },
  {
   "cell_type": "code",
   "execution_count": null,
   "id": "ea840751-f123-4f2a-b2e4-8dadbacea92f",
   "metadata": {},
   "outputs": [],
   "source": []
  },
  {
   "cell_type": "code",
   "execution_count": null,
   "id": "c9a1f12d-9f17-421c-84a0-7ff5472e2253",
   "metadata": {},
   "outputs": [],
   "source": []
  },
  {
   "cell_type": "code",
   "execution_count": null,
   "id": "113f1ea4-cb69-4232-826c-84e3b06f8e86",
   "metadata": {},
   "outputs": [],
   "source": []
  },
  {
   "cell_type": "code",
   "execution_count": null,
   "id": "3310c798-0515-47bb-b8ac-299b346df8b6",
   "metadata": {},
   "outputs": [],
   "source": [
    "trials_df = trials_df1.copy()"
   ]
  },
  {
   "cell_type": "code",
   "execution_count": null,
   "id": "be89ed89-0723-4c00-adac-77facd86f4c2",
   "metadata": {},
   "outputs": [],
   "source": [
    "trials_df['Train_set'] = 'X_train'"
   ]
  },
  {
   "cell_type": "code",
   "execution_count": null,
   "id": "87a142d6-d7f6-4bdc-af32-8f1ab199c781",
   "metadata": {},
   "outputs": [],
   "source": [
    "trials_df2 = trials_df2.copy()"
   ]
  },
  {
   "cell_type": "code",
   "execution_count": null,
   "id": "19747916-1ae0-4220-ba36-f5b300017b4f",
   "metadata": {},
   "outputs": [],
   "source": [
    "trials_df2['Train_set'] = 'X_train_tree'"
   ]
  },
  {
   "cell_type": "code",
   "execution_count": null,
   "id": "d877a593-b44c-4b7b-b0a4-097adddc0668",
   "metadata": {},
   "outputs": [],
   "source": [
    "# Concatenar las filas de trials_df y trials_df2\n",
    "trials_df = pd.concat([trials_df, trials_df2], ignore_index=True)"
   ]
  },
  {
   "cell_type": "code",
   "execution_count": null,
   "id": "e5b744bf-f19b-4047-acd9-aae3c796e5a5",
   "metadata": {},
   "outputs": [],
   "source": [
    "high_risk_max_value_per_model = trials_df.loc[trials_df.groupby('Model')['Value'].idxmax()]\n",
    "high_risk_max_value_per_model.iloc[:, [*range(9), -1]]"
   ]
  },
  {
   "cell_type": "code",
   "execution_count": null,
   "id": "f0898d63-8074-4f77-ab14-0416fa8772de",
   "metadata": {},
   "outputs": [],
   "source": []
  },
  {
   "cell_type": "code",
   "execution_count": null,
   "id": "8e9f7e2a-2dc4-46c8-ae50-398182f0c477",
   "metadata": {
    "scrolled": true
   },
   "outputs": [],
   "source": [
    "# Filtrar filas con \"Overfitting Risk\" igual a \"Low\"\n",
    "low_risk_df = trials_df[trials_df['Overfitting Risk'] == 'Low']\n",
    "low_risk_df.iloc[: ,0:9]"
   ]
  },
  {
   "cell_type": "code",
   "execution_count": null,
   "id": "293b077e-f08d-4a8c-920a-9f108ac3f4fa",
   "metadata": {},
   "outputs": [],
   "source": [
    "trials_df.iloc[: ,0:9].describe()"
   ]
  },
  {
   "cell_type": "code",
   "execution_count": null,
   "id": "d5c6004b-124c-4148-a591-b1f4cac13a65",
   "metadata": {},
   "outputs": [],
   "source": []
  },
  {
   "cell_type": "code",
   "execution_count": null,
   "id": "fb79706b-0e95-440e-8d72-82c2d0cf0122",
   "metadata": {},
   "outputs": [],
   "source": [
    "# Seleccionar las filas con el valor máximo para \"Value\" y \"Train Std\" por cada modelo\n",
    "def select_best_rows_and_max_std(group):\n",
    "    max_value_idx = group['Value'].idxmax()\n",
    "    max_std = group['Train Std'].max()\n",
    "    max_std_rows = group.loc[group['Train Std'] == max_std]\n",
    "    \n",
    "    # Comprobar si el índice del valor máximo de \"Value\" está en las filas de max_std\n",
    "    if max_value_idx in max_std_rows.index:\n",
    "        return group.loc[max_value_idx]\n",
    "    else:\n",
    "        return max_std_rows.iloc[0]  # En caso de que no coincidan, devolver una de las filas de max_std\n",
    "\n",
    "# Agrupar y aplicar la función, excluyendo las columnas de agrupación\n",
    "max_value_per_model_and_max_std = low_risk_df.groupby('Model', group_keys=False).apply(select_best_rows_and_max_std)\n",
    "\n",
    "# Limpiar el índice\n",
    "max_value_per_model_and_max_std.reset_index(drop=True, inplace=True)"
   ]
  },
  {
   "cell_type": "code",
   "execution_count": null,
   "id": "23e90ec4-0708-482c-afd2-11569085d433",
   "metadata": {},
   "outputs": [],
   "source": [
    "max_value_per_model_and_max_std.iloc[:, [*range(9), -1]]"
   ]
  },
  {
   "cell_type": "code",
   "execution_count": null,
   "id": "c24b0404-ac2b-48cb-8563-c7febfd7ee5d",
   "metadata": {},
   "outputs": [],
   "source": []
  },
  {
   "cell_type": "code",
   "execution_count": null,
   "id": "169efb64-f9ca-4ab7-8a77-2c37ad3718ee",
   "metadata": {},
   "outputs": [],
   "source": [
    "def select_best_rows_by_std_ratio(group):\n",
    "    # Filtrar filas donde Test Std no es mayor que Train Std\n",
    "    valid_rows = group[group['Train Std'] <= group['Test Std']]\n",
    "    \n",
    "    # Si no hay filas válidas, retornar None o un DataFrame vacío\n",
    "    if valid_rows.empty:\n",
    "        return pd.DataFrame()  \n",
    "    \n",
    "    # Calcular el cociente Test Std / Train Std y agregarlo como una nueva columna\n",
    "    valid_rows['Std Ratio'] = valid_rows['Train Std'] / valid_rows['Test Std']\n",
    "    \n",
    "    # Encontrar el índice de la fila con el cociente más cercano a 1\n",
    "    closest_to_one_idx = (valid_rows['Std Ratio'] - 1).abs().idxmin()\n",
    "\n",
    "    # Elimino la columna agregada\n",
    "    valid_rows = valid_rows.drop(columns = \"Std Ratio\")\n",
    "    \n",
    "    # Seleccionar la fila correspondiente\n",
    "    return valid_rows.loc[closest_to_one_idx]\n",
    "\n",
    "# Agrupar y aplicar la función\n",
    "max_value_per_model_by_std_ratio = low_risk_df.groupby('Model', group_keys=False).apply(select_best_rows_by_std_ratio)\n",
    "\n",
    "# Limpiar el índice\n",
    "max_value_per_model_by_std_ratio.reset_index(drop=True, inplace=True)"
   ]
  },
  {
   "cell_type": "code",
   "execution_count": null,
   "id": "c8552ec1-02b4-4ed1-90d6-9a4e26211c4c",
   "metadata": {},
   "outputs": [],
   "source": [
    "max_value_per_model_by_std_ratio.iloc[:, [*range(9), -1]]"
   ]
  },
  {
   "cell_type": "code",
   "execution_count": null,
   "id": "6fab5f62-db7b-41ba-ae10-b3af542908f0",
   "metadata": {},
   "outputs": [],
   "source": []
  },
  {
   "cell_type": "code",
   "execution_count": null,
   "id": "e39d15ec-c0e6-4d3e-9f71-f50cc466e400",
   "metadata": {},
   "outputs": [],
   "source": [
    "# Seleccionar las filas con el valor máximo para cada modelo\n",
    "max_value_per_model = low_risk_df.loc[low_risk_df.groupby('Model')['Value'].idxmax()]"
   ]
  },
  {
   "cell_type": "code",
   "execution_count": null,
   "id": "777d2935-d1d8-4e41-adc6-ab8789cebb11",
   "metadata": {},
   "outputs": [],
   "source": [
    "# Mostrar el resultado\n",
    "max_value_per_model.iloc[:, [*range(9), -1]]"
   ]
  },
  {
   "cell_type": "code",
   "execution_count": null,
   "id": "d7588a2e-06bd-496b-b859-582d8f7fdc7d",
   "metadata": {},
   "outputs": [],
   "source": [
    "# Seleccionar las filas con el valor máximo para cada modelo\n",
    "max_value_per_model_min_std = low_risk_df.loc[low_risk_df.groupby('Model')['Test Std'].idxmin()]"
   ]
  },
  {
   "cell_type": "code",
   "execution_count": null,
   "id": "e9f0be24-1501-432d-b778-7d57a0cb63f5",
   "metadata": {},
   "outputs": [],
   "source": [
    "max_value_per_model_min_std.iloc[:, [*range(9), -1]]"
   ]
  },
  {
   "cell_type": "code",
   "execution_count": null,
   "id": "b0eed4d6-e111-4525-9f9e-d5f9ed143bc6",
   "metadata": {},
   "outputs": [],
   "source": [
    "# DataFrames a graficar con sus nombres\n",
    "dataframes = [\n",
    "    (max_value_per_model, 'Max Value per Model'),\n",
    "    (max_value_per_model_and_max_std, 'Max Value per Model with Max Std'),\n",
    "    (max_value_per_model_by_std_ratio, 'Max Value by Std Ratio'),\n",
    "    (max_value_per_model_min_std, 'Max Value with Min Std'),\n",
    "    (high_risk_max_value_per_model, 'High Risk Max Value per Model')\n",
    "]\n",
    "\n",
    "# Colores para cada dataframe\n",
    "colors = ['blue', 'orange', 'green', 'red', 'purple']\n",
    "\n",
    "# Crear el gráfico de barras\n",
    "plt.figure(figsize=(12, 6))\n",
    "bar_width = 0.15  # Ancho de las barras\n",
    "\n",
    "# Obtener todos los modelos únicos\n",
    "all_models = set()\n",
    "for df, _ in dataframes:\n",
    "    all_models.update(df['Model'])\n",
    "\n",
    "all_models = sorted(all_models)  # Ordenar los modelos\n",
    "\n",
    "# Inicializar posición base\n",
    "x_pos = np.arange(len(all_models))\n",
    "\n",
    "# Graficar cada dataframe\n",
    "for i, (df, label) in enumerate(dataframes):\n",
    "    # Filtrar los datos para que coincidan con los modelos\n",
    "    filtered_df = df[df['Model'].isin(all_models)]\n",
    "    \n",
    "    models = filtered_df['Model'].tolist()\n",
    "    mean_test_scores = filtered_df['Mean Test Score'].tolist()\n",
    "    test_stds = filtered_df['Test Std'].tolist()\n",
    "    \n",
    "    # Posicionar las barras\n",
    "    for j, model in enumerate(models):\n",
    "        index = all_models.index(model)  # Obtener la posición en all_models\n",
    "        plt.bar(index + (i * bar_width), mean_test_scores[j], yerr=test_stds[j], capsize=5, \n",
    "                color=colors[i], width=bar_width, alpha=0.7)\n",
    "\n",
    "# Añadir etiquetas y título\n",
    "plt.title('Comparación de Rendimiento de Modelos')\n",
    "plt.xticks(x_pos + bar_width * (len(dataframes) / 2 - 0.5), all_models, rotation=45)\n",
    "plt.ylabel('Mean Test Score')\n",
    "\n",
    "# Ajustar el límite del eje y\n",
    "plt.ylim(0.6, 1.0)\n",
    "\n",
    "# Añadir leyenda con colores correctos\n",
    "handles = [plt.Rectangle((0, 0), 1, 1, color=colors[i]) for i in range(len(dataframes))]\n",
    "plt.legend(handles, [label for _, label in dataframes], loc='best')\n",
    "\n",
    "# Mostrar el gráfico\n",
    "plt.tight_layout()\n",
    "plt.show()"
   ]
  },
  {
   "cell_type": "markdown",
   "id": "20d2d960-2cf4-41e2-be5c-f3f3edcb5e99",
   "metadata": {},
   "source": [
    "#### En **max_value_per_model** se seleccionan los parametros en los cuales el p_value es mayor que 0.1 y Valor determinado por Optuna es el mayor\n",
    "#### En **max_value_per_model_and_max_std** se seleccionan los parametros en los cuales el p_value es mayor que 0.1 y la desviacion estandar del conjunto de entrenamiento es la mayor\n",
    "#### En **max_value_per_model_by_std_ratio** se seleccionan los parametros en los cuales el p_value es mayor que 0.1 y donde el cocinte entre Test_Std y Train_Std es lo mas cercana a 1, sin tener en cuenta aquellas combinaciones de parametros donde este ratio es mayor a 1\n",
    "#### En **max_value_per_model_min_std** se seleccionan los parametros en los cuales el p_value es mayor que 0.1 y donde la desviacion estandar del conjunto de prueba sea la menor\n",
    "#### En **high_risk_max_value_per_model** estan las combinaciones de parametros que mejor desempeño tienen pero es probable que sobreajusten"
   ]
  },
  {
   "cell_type": "markdown",
   "id": "3933dff9-cdf6-4ec9-8e0d-7e2ad7aa9489",
   "metadata": {},
   "source": [
    "#### Para obtener los parametros del dataframe que los contiene para el modelo deseado"
   ]
  },
  {
   "cell_type": "code",
   "execution_count": null,
   "id": "3d75535c-97b1-479f-80bb-b82fc60cf9ea",
   "metadata": {},
   "outputs": [],
   "source": [
    "def create_and_extract_model_params(chosen_params_df, selected_model=None):\n",
    "    \"\"\"\n",
    "    Extrae parámetros de un DataFrame y crea modelos de clasificación.\n",
    "\n",
    "    Parameters:\n",
    "    - chosen_params_df (DataFrame): DataFrame que contiene los parámetros de cada modelo.\n",
    "    - selected_model (str): Opcional, el nombre del modelo del que se desean obtener los parámetros.\n",
    "\n",
    "    Returns:\n",
    "    - dict: Parámetros del modelo especificado o, si no se especifica `selected_model`, el diccionario de todos los modelos.\n",
    "    \"\"\"\n",
    "    model_mapping = {\n",
    "        LogisticRegression: 'logit',\n",
    "        RandomForestClassifier: 'RF',\n",
    "        SVC: 'svc',\n",
    "        GaussianNB: 'Naive',\n",
    "        GradientBoostingClassifier: 'gbm',\n",
    "        KNeighborsClassifier: 'Knn',\n",
    "        DecisionTreeClassifier: 'dt'\n",
    "    }\n",
    "    \n",
    "    def convert_to_int(value):\n",
    "        return int(value) if isinstance(value, float) and value.is_integer() else value\n",
    "\n",
    "    model_parameters = {}\n",
    "\n",
    "    for index, row in chosen_params_df.iterrows():\n",
    "        model_name = row['Model']\n",
    "        \n",
    "        parameters = {}\n",
    "        for key, value in row.items():\n",
    "            # Filtrar las columnas que no son parámetros y asegurarse de que el valor no sea NaN\n",
    "            if key not in ['Model', 'Trial Number', 'Value', 'Mean Train Score', \n",
    "                           'Mean Test Score', 'Train Std', 'Test Std', \n",
    "                           'Overfitting Risk', 'p_value', 'Train_set'] and pd.notna(value):\n",
    "                param_name = key.replace('logit_', '').replace('rf_', '').replace('svc_', '').replace('gbm_', '')\\\n",
    "                                .replace('knn_', '').replace('dt_', '').strip('_')\n",
    "\n",
    "                if model_name in ['logit', 'svc'] and 'c' in param_name:\n",
    "                    param_name = 'C'\n",
    "                \n",
    "                if model_name == 'Naive':\n",
    "                    param_name = 'var_smoothing'\n",
    "\n",
    "                parameters[param_name] = convert_to_int(value)\n",
    "\n",
    "        # Agregar random_state si el modelo lo requiere\n",
    "        if model_name in ['RF', 'svc', 'gbm', 'dt']:\n",
    "            parameters['random_state'] = 42\n",
    "\n",
    "        model_parameters.setdefault(model_name, []).append(parameters)\n",
    "\n",
    "    models = {}\n",
    "    for model_class, model_key in model_mapping.items():\n",
    "        if model_key in model_parameters:\n",
    "            params = model_parameters[model_key][0]  # Usar los primeros parámetros extraídos\n",
    "            models[model_key] = model_class(**params)  # Crear el modelo con los parámetros\n",
    "\n",
    "    if selected_model:\n",
    "        if selected_model in models:\n",
    "            selected_model_instance = models[selected_model]\n",
    "            return selected_model_instance.get_params()\n",
    "        else:\n",
    "            return f\"El modelo '{selected_model}' no está en el diccionario de modelos.\"\n",
    "    else:\n",
    "        return models"
   ]
  },
  {
   "cell_type": "code",
   "execution_count": null,
   "id": "231a3072-f566-40da-b2fb-b043cd369ed3",
   "metadata": {},
   "outputs": [],
   "source": [
    "RF_row = max_value_per_model[max_value_per_model['Model'] == 'RF']\n",
    "# Seleccionar las primeras 9 columnas y la última\n",
    "RF_row = RF_row.iloc[:, [*range(9), -1]]\n",
    "RF_row"
   ]
  },
  {
   "cell_type": "code",
   "execution_count": null,
   "id": "53dda03f-b8d8-4748-863a-0cc0f5a3236b",
   "metadata": {},
   "outputs": [],
   "source": [
    "RF_params = create_and_extract_model_params(chosen_params_df = max_value_per_model, selected_model= 'RF')\n",
    "RF_params;"
   ]
  },
  {
   "cell_type": "code",
   "execution_count": null,
   "id": "c6968f29-8fb2-46d1-b5c4-fa392c68fbcd",
   "metadata": {},
   "outputs": [],
   "source": [
    "RF_model = RandomForestClassifier(**RF_params)"
   ]
  },
  {
   "cell_type": "code",
   "execution_count": null,
   "id": "7e446ac7-1c5b-48ac-a7d5-1ca43151d83b",
   "metadata": {},
   "outputs": [],
   "source": [
    "evaluacion_modelo, riesgo_sobreajuste = model_evaluation(RF_model, X_train = X_train_tree, y_train = y_train)\n",
    "evaluacion_modelo"
   ]
  },
  {
   "cell_type": "code",
   "execution_count": null,
   "id": "ce52e8e8-8f64-4190-8c5e-d013e3cbe8df",
   "metadata": {},
   "outputs": [],
   "source": [
    "riesgo_sobreajuste"
   ]
  },
  {
   "cell_type": "code",
   "execution_count": null,
   "id": "ef25bfe0-0426-4dbd-93ea-dd2e2fb1a2fe",
   "metadata": {},
   "outputs": [],
   "source": [
    "RF_model.fit(X_train_tree, y_train)"
   ]
  },
  {
   "cell_type": "code",
   "execution_count": null,
   "id": "291b1300-8f40-4faa-936f-d3d19a139122",
   "metadata": {},
   "outputs": [],
   "source": [
    "y_pred = RF_model.predict(X = X_train_tree)\n",
    "y_pred_test = RF_model.predict(X = X_test_tree)   \n",
    "resultados(y_train, y_pred)\n",
    "resultados(y_test, y_pred_test)"
   ]
  },
  {
   "cell_type": "code",
   "execution_count": null,
   "id": "4ec361c2-05db-489e-9e27-204a8b74fb45",
   "metadata": {},
   "outputs": [],
   "source": []
  },
  {
   "cell_type": "code",
   "execution_count": null,
   "id": "4382bd73-c134-40ad-b366-6c147121164a",
   "metadata": {},
   "outputs": [],
   "source": [
    "gbm_row = max_value_per_model[max_value_per_model['Model'] == 'gbm']\n",
    "# Seleccionar las primeras 9 columnas y la última\n",
    "gbm_row = gbm_row.iloc[:, [*range(9), -1]]\n",
    "gbm_row"
   ]
  },
  {
   "cell_type": "code",
   "execution_count": null,
   "id": "267602a4-7dd6-4467-b893-99850935c94e",
   "metadata": {},
   "outputs": [],
   "source": [
    "gbm_params = create_and_extract_model_params(chosen_params_df = max_value_per_model, selected_model= 'gbm')"
   ]
  },
  {
   "cell_type": "code",
   "execution_count": null,
   "id": "11ea3ede-a50b-4d32-a6ba-b891297ea495",
   "metadata": {},
   "outputs": [],
   "source": [
    "gbm_model = GradientBoostingClassifier(**gbm_params)"
   ]
  },
  {
   "cell_type": "code",
   "execution_count": null,
   "id": "455c55b5-905d-4f85-aff5-ff58d23aa887",
   "metadata": {},
   "outputs": [],
   "source": [
    "evaluacion_modelo, riesgo_sobreajuste = model_evaluation(gbm_model, X_train = X_train_tree, y_train = y_train)\n",
    "evaluacion_modelo"
   ]
  },
  {
   "cell_type": "code",
   "execution_count": null,
   "id": "16ce43a2-3a35-4dca-a1f8-281614666ac0",
   "metadata": {},
   "outputs": [],
   "source": [
    "gbm_model.fit(X_train_tree, y_train)"
   ]
  },
  {
   "cell_type": "code",
   "execution_count": null,
   "id": "b179b749-a345-4efa-811c-1f66427c333e",
   "metadata": {},
   "outputs": [],
   "source": [
    "y_pred = gbm_model.predict(X = X_train_tree)\n",
    "y_pred_test = gbm_model.predict(X = X_test_tree)   \n",
    "resultados(y_train, y_pred)\n",
    "resultados(y_test, y_pred_test)"
   ]
  },
  {
   "cell_type": "code",
   "execution_count": null,
   "id": "5da20a25-6083-4c11-9a6f-44534070b0a9",
   "metadata": {},
   "outputs": [],
   "source": []
  },
  {
   "cell_type": "code",
   "execution_count": null,
   "id": "f62f7736-84da-4f5a-bac9-e6eebfe44df5",
   "metadata": {},
   "outputs": [],
   "source": [
    "knn_row = high_risk_max_value_per_model[high_risk_max_value_per_model['Model'] == 'Knn']\n",
    "# Seleccionar las primeras 9 columnas y la última\n",
    "knn_row = knn_row.iloc[:, [*range(9), -1]]\n",
    "knn_row"
   ]
  },
  {
   "cell_type": "code",
   "execution_count": null,
   "id": "a4786063-5611-46ed-90f8-99a75b000e7f",
   "metadata": {},
   "outputs": [],
   "source": [
    "knn_params = create_and_extract_model_params(chosen_params_df = high_risk_max_value_per_model, selected_model= 'Knn')"
   ]
  },
  {
   "cell_type": "code",
   "execution_count": null,
   "id": "60095b6c-483c-45dd-8122-b0cdb4f81b71",
   "metadata": {},
   "outputs": [],
   "source": [
    "knn_model = KNeighborsClassifier(**knn_params)"
   ]
  },
  {
   "cell_type": "code",
   "execution_count": null,
   "id": "7babd510-f8d8-484b-93d6-05b43c6a8184",
   "metadata": {},
   "outputs": [],
   "source": [
    "evaluacion_modelo, riesgo_sobreajuste = model_evaluation(knn_model, X_train = X_train, y_train = y_train)\n",
    "evaluacion_modelo"
   ]
  },
  {
   "cell_type": "code",
   "execution_count": null,
   "id": "524e7753-602e-4dd7-b23e-1fd1206b5e6a",
   "metadata": {},
   "outputs": [],
   "source": [
    "riesgo_sobreajuste"
   ]
  },
  {
   "cell_type": "code",
   "execution_count": null,
   "id": "d68ec332-6bb1-48af-846e-d76079cc98f0",
   "metadata": {},
   "outputs": [],
   "source": [
    "knn_model.fit(X_train, y_train)"
   ]
  },
  {
   "cell_type": "code",
   "execution_count": null,
   "id": "98df481b-dd27-4596-a35a-4d4f31d3a3c3",
   "metadata": {},
   "outputs": [],
   "source": [
    "y_pred = knn_model.predict(X = X_train)\n",
    "y_pred_test = knn_model.predict(X = X_test)   \n",
    "resultados(y_train, y_pred)\n",
    "resultados(y_test, y_pred_test)"
   ]
  },
  {
   "cell_type": "code",
   "execution_count": null,
   "id": "dda080b1-9095-49d0-b5d3-7b9e31041c5b",
   "metadata": {},
   "outputs": [],
   "source": []
  },
  {
   "cell_type": "code",
   "execution_count": null,
   "id": "a6b2f0ce-bc84-4a38-ad10-98691235316c",
   "metadata": {},
   "outputs": [],
   "source": [
    "dt_row = max_value_per_model_by_std_ratio[max_value_per_model_by_std_ratio['Model'] == 'dt']\n",
    "# Seleccionar las primeras 9 columnas y la última\n",
    "dt_row = dt_row.iloc[:, [*range(9), -1]]\n",
    "dt_row"
   ]
  },
  {
   "cell_type": "code",
   "execution_count": null,
   "id": "5838ea1c-3997-48c0-bf97-40a3efffcab8",
   "metadata": {},
   "outputs": [],
   "source": [
    "dt_params = create_and_extract_model_params(chosen_params_df = max_value_per_model_by_std_ratio, selected_model= 'dt')"
   ]
  },
  {
   "cell_type": "code",
   "execution_count": null,
   "id": "bb62dd03-dcf4-4eeb-b9b7-7c3e218e9225",
   "metadata": {},
   "outputs": [],
   "source": [
    "dt_model = DecisionTreeClassifier(**dt_params)"
   ]
  },
  {
   "cell_type": "code",
   "execution_count": null,
   "id": "5400307f-c632-4a4c-8fbf-c406ac616abe",
   "metadata": {},
   "outputs": [],
   "source": [
    "evaluacion_modelo, riesgo_sobreajuste = model_evaluation(dt_model, X_train = X_train_tree, y_train = y_train)\n",
    "evaluacion_modelo"
   ]
  },
  {
   "cell_type": "code",
   "execution_count": null,
   "id": "ab6f5a19-9c4b-4163-a624-30661f54229a",
   "metadata": {},
   "outputs": [],
   "source": [
    "dt_model.fit(X_train_tree, y_train)"
   ]
  },
  {
   "cell_type": "code",
   "execution_count": null,
   "id": "413e551a-293a-4fa6-a628-6b01446e6745",
   "metadata": {},
   "outputs": [],
   "source": [
    "y_pred = dt_model.predict(X = X_train_tree)\n",
    "y_pred_test = dt_model.predict(X = X_test_tree)   \n",
    "resultados(y_train, y_pred)\n",
    "resultados(y_test, y_pred_test)"
   ]
  },
  {
   "cell_type": "code",
   "execution_count": null,
   "id": "16568578-0fa5-4eb1-8798-f3a3f3131a1e",
   "metadata": {},
   "outputs": [],
   "source": []
  },
  {
   "cell_type": "code",
   "execution_count": null,
   "id": "69a05e9c-b6d0-4761-9347-f0917112bb09",
   "metadata": {},
   "outputs": [],
   "source": [
    "logit_row = max_value_per_model[max_value_per_model['Model'] == 'logit']\n",
    "# Seleccionar las primeras 9 columnas y la última\n",
    "logit_row = logit_row.iloc[:, [*range(9), -1]]\n",
    "logit_row"
   ]
  },
  {
   "cell_type": "code",
   "execution_count": null,
   "id": "47a197cf-ee0d-4b0c-9090-229048fe2485",
   "metadata": {},
   "outputs": [],
   "source": [
    "logit_params = create_and_extract_model_params(chosen_params_df = max_value_per_model, selected_model= 'logit')"
   ]
  },
  {
   "cell_type": "code",
   "execution_count": null,
   "id": "7ba9daed-3c0d-4130-a6b2-6d1f076b7c61",
   "metadata": {},
   "outputs": [],
   "source": [
    "logit_model = LogisticRegression(**logit_params)\n",
    "logit_model"
   ]
  },
  {
   "cell_type": "code",
   "execution_count": null,
   "id": "a4f8c1c3-f7f9-4053-9754-cb22ecd39d3d",
   "metadata": {},
   "outputs": [],
   "source": [
    "evaluacion_modelo, riesgo_sobreajuste = model_evaluation(logit_model, X_train = X_train, y_train = y_train)\n",
    "evaluacion_modelo"
   ]
  },
  {
   "cell_type": "code",
   "execution_count": null,
   "id": "be02352f-bc30-4e10-bff8-eaffe48c8c47",
   "metadata": {},
   "outputs": [],
   "source": [
    "logit_model.fit(X_train, y_train)"
   ]
  },
  {
   "cell_type": "code",
   "execution_count": null,
   "id": "380b2d4b-0043-42c3-8243-c6bbc3549d86",
   "metadata": {},
   "outputs": [],
   "source": [
    "y_pred = logit_model.predict(X = X_train)\n",
    "y_pred_test = logit_model.predict(X = X_test)"
   ]
  },
  {
   "cell_type": "code",
   "execution_count": null,
   "id": "e39fbec8-1a9f-4876-98f9-aa510cd6bfc4",
   "metadata": {},
   "outputs": [],
   "source": [
    "resultados(y_train, y_pred)\n",
    "resultados(y_test, y_pred_test)"
   ]
  },
  {
   "cell_type": "code",
   "execution_count": null,
   "id": "0b421c7e-dc2d-4924-9102-fc1a08e6b9b3",
   "metadata": {},
   "outputs": [],
   "source": []
  },
  {
   "cell_type": "code",
   "execution_count": null,
   "id": "34878707-7ea3-47d6-8d63-cc4bfb64fc2b",
   "metadata": {},
   "outputs": [],
   "source": []
  },
  {
   "cell_type": "markdown",
   "id": "60aac40d-59ab-4b08-a47e-55e352541676",
   "metadata": {},
   "source": [
    "### Busco un mejor resultado para decisions trees que es el modelo que menos sobreajusta"
   ]
  },
  {
   "cell_type": "code",
   "execution_count": null,
   "id": "a0f2b38f-efd2-432f-8efb-bf20f651df98",
   "metadata": {},
   "outputs": [],
   "source": [
    "better_study = optuna.create_study(\n",
    "    direction=\"maximize\",\n",
    "    sampler=optuna.samplers.TPESampler(),\n",
    ")"
   ]
  },
  {
   "cell_type": "code",
   "execution_count": null,
   "id": "778b1ba1-d66b-4874-bb5c-6a6a5308cafd",
   "metadata": {
    "scrolled": true
   },
   "outputs": [],
   "source": [
    "try:\n",
    "    # Intentar leer el archivo CSV\n",
    "    dt_trials_df = pd.read_csv(\"../Titanic/parametros_dt_trials.csv\")\n",
    "    # Si la lectura es exitosa, el siguiente código se ejecutará\n",
    "    print(\"Archivo leído correctamente.\\n\")\n",
    "    \n",
    "except FileNotFoundError:\n",
    "      run_optimization(classifiers = 'dt', n_trials=150, output_csv=\"parametros_dt_trials.csv\", X_train = X_train_tree, y_train = y_train)\n",
    "      dt_trials_df = pd.read_csv(\"../Titanic/parametros_dt_trials.csv\")"
   ]
  },
  {
   "cell_type": "code",
   "execution_count": null,
   "id": "78efe9a5-d387-4fb2-ac2b-f6b98287fe13",
   "metadata": {},
   "outputs": [],
   "source": [
    "high_risk_max_value_dt_model = dt_trials_df.loc[dt_trials_df.groupby('Model')['Value'].idxmax()]\n",
    "high_risk_max_value_dt_model.iloc[:, [*range(9), -1]]"
   ]
  },
  {
   "cell_type": "code",
   "execution_count": null,
   "id": "ea68c1f8-126c-4a86-96b8-58c64ccf7e6e",
   "metadata": {},
   "outputs": [],
   "source": [
    "low_risk_dt = dt_trials_df[dt_trials_df['Overfitting Risk'] == 'Low']"
   ]
  },
  {
   "cell_type": "code",
   "execution_count": null,
   "id": "87de5fab-fdfb-4b6b-835d-139b8a87c6be",
   "metadata": {},
   "outputs": [],
   "source": [
    "# Agrupar y aplicar la función, excluyendo las columnas de agrupación\n",
    "max_value_dt_model_and_max_std = low_risk_dt.groupby('Model', group_keys=False).apply(select_best_rows_and_max_std)\n",
    "max_value_dt_model_and_max_std.reset_index(drop=True, inplace=True)\n",
    "max_value_dt_model_and_max_std"
   ]
  },
  {
   "cell_type": "code",
   "execution_count": null,
   "id": "f2220655-9c93-497a-ac22-4df2d2638891",
   "metadata": {},
   "outputs": [],
   "source": [
    "# Agrupar y aplicar la función\n",
    "max_value_dt_model_by_std_ratio = low_risk_dt.groupby('Model', group_keys=False).apply(select_best_rows_by_std_ratio)\n",
    "max_value_dt_model_by_std_ratio.reset_index(drop=True, inplace=True)\n",
    "max_value_dt_model_by_std_ratio"
   ]
  },
  {
   "cell_type": "code",
   "execution_count": null,
   "id": "72be2c1d-6078-4ad6-ac4e-3f2d6a4fd370",
   "metadata": {},
   "outputs": [],
   "source": [
    "# Seleccionar las filas con el valor máximo para cada modelo\n",
    "max_value_dt_model = low_risk_dt.loc[low_risk_dt.groupby('Model')['Value'].idxmax()]\n",
    "max_value_dt_model"
   ]
  },
  {
   "cell_type": "code",
   "execution_count": null,
   "id": "27d1533a-69cd-45f5-b276-118219da7278",
   "metadata": {},
   "outputs": [],
   "source": [
    "# Seleccionar las filas con el valor máximo para cada modelo\n",
    "max_value_dt_model_min_std = low_risk_dt.loc[low_risk_dt.groupby('Model')['Test Std'].idxmin()]\n",
    "max_value_dt_model_min_std"
   ]
  },
  {
   "cell_type": "code",
   "execution_count": null,
   "id": "896581cd-4bbd-402c-a953-4b485778c013",
   "metadata": {},
   "outputs": [],
   "source": [
    "# DataFrames a graficar con sus nombres para el modelo dt\n",
    "dataframes = [\n",
    "    (high_risk_max_value_dt_model, 'High Risk Max Value DT'),\n",
    "    (max_value_dt_model_and_max_std, 'Max Value DT with Max Std'),\n",
    "    (max_value_dt_model_by_std_ratio, 'Max Value by Std Ratio DT'),\n",
    "    (max_value_dt_model, 'Max Value DT'),\n",
    "    (max_value_dt_model_min_std, 'Max Value with Min Std DT')\n",
    "]\n",
    "\n",
    "# Colores para cada dataframe\n",
    "colors = ['blue', 'orange', 'green', 'red', 'purple']\n",
    "\n",
    "# Crear el gráfico de barras\n",
    "plt.figure(figsize=(12, 6))\n",
    "bar_width = 0.15  # Ancho de las barras\n",
    "\n",
    "# Obtener todos los modelos únicos (en este caso solo será el modelo 'dt')\n",
    "all_models = ['dt']\n",
    "\n",
    "# Inicializar posición base\n",
    "x_pos = np.arange(len(all_models))\n",
    "\n",
    "# Graficar cada dataframe\n",
    "for i, (df, label) in enumerate(dataframes):\n",
    "    # Filtrar los datos para que coincidan con los modelos\n",
    "    filtered_df = df[df['Model'].isin(all_models)]\n",
    "    \n",
    "    models = filtered_df['Model'].tolist()\n",
    "    mean_test_scores = filtered_df['Mean Test Score'].tolist()\n",
    "    test_stds = filtered_df['Test Std'].tolist()\n",
    "    \n",
    "    # Posicionar las barras\n",
    "    for j, model in enumerate(models):\n",
    "        index = all_models.index(model)  # Obtener la posición en all_models\n",
    "        plt.bar(index + (i * bar_width), mean_test_scores[j], yerr=test_stds[j], capsize=5, \n",
    "                color=colors[i], width=bar_width, alpha=0.7)\n",
    "\n",
    "# Añadir etiquetas y título\n",
    "plt.title('Comparación de Rendimiento del Modelo de Árbol de Decisión (DT)')\n",
    "plt.xticks(x_pos + bar_width * (len(dataframes) / 2 - 0.5), all_models, rotation=45)\n",
    "plt.ylabel('Mean Test Score')\n",
    "\n",
    "# Ajustar el límite del eje y\n",
    "plt.ylim(0.6, 1.0)\n",
    "\n",
    "# Añadir leyenda con colores correctos\n",
    "handles = [plt.Rectangle((0, 0), 1, 1, color=colors[i]) for i in range(len(dataframes))]\n",
    "plt.legend(handles, [label for _, label in dataframes], loc='best')\n",
    "\n",
    "# Mostrar el gráfico\n",
    "plt.tight_layout()\n",
    "plt.show()"
   ]
  },
  {
   "cell_type": "code",
   "execution_count": null,
   "id": "f683dd38-1a04-424e-acd6-81fbdca7248d",
   "metadata": {},
   "outputs": [],
   "source": [
    "dt_row = max_value_per_model_by_std_ratio[max_value_per_model_by_std_ratio['Model'] == 'dt']\n",
    "# Seleccionar las primeras 9 columnas y la última\n",
    "dt_row = dt_row.iloc[:, [*range(9), -1]]\n",
    "dt_row"
   ]
  },
  {
   "cell_type": "code",
   "execution_count": null,
   "id": "0002a2c0-fa98-46a8-b9a2-d8aec948f83a",
   "metadata": {},
   "outputs": [],
   "source": [
    "dt_params2 = create_and_extract_model_params(chosen_params_df = max_value_per_model_by_std_ratio, selected_model= 'dt')\n",
    "dt_model2 = DecisionTreeClassifier(**dt_params2)\n",
    "evaluacion_modelo, riesgo_sobreajuste = model_evaluation(dt_model2, X_train = X_train_tree, y_train = y_train)\n",
    "evaluacion_modelo"
   ]
  },
  {
   "cell_type": "code",
   "execution_count": null,
   "id": "14378815-eac1-43fe-a34a-ac954f27dc0c",
   "metadata": {},
   "outputs": [],
   "source": [
    "dt_model2.fit(X_train_tree, y_train)\n",
    "y_pred = dt_model2.predict(X = X_train_tree)\n",
    "y_pred_test = dt_model2.predict(X = X_test_tree)   \n",
    "resultados(y_train, y_pred)\n",
    "resultados(y_test, y_pred_test)"
   ]
  },
  {
   "cell_type": "code",
   "execution_count": null,
   "id": "694c345c-5260-44ea-8c93-f6701b448fa7",
   "metadata": {},
   "outputs": [],
   "source": [
    "dt_row = high_risk_max_value_dt_model[high_risk_max_value_dt_model['Model'] == 'dt']\n",
    "# Seleccionar las primeras 9 columnas y la última\n",
    "dt_row = dt_row.iloc[:, [*range(9), -1]]\n",
    "dt_row"
   ]
  },
  {
   "cell_type": "code",
   "execution_count": null,
   "id": "9a17b4d1-53b9-43db-9ea8-8e36e3e1d7cf",
   "metadata": {},
   "outputs": [],
   "source": [
    "dt_params3 = create_and_extract_model_params(chosen_params_df = high_risk_max_value_dt_model, selected_model= 'dt')\n",
    "dt_model3 = DecisionTreeClassifier(**dt_params3)\n",
    "evaluacion_modelo, riesgo_sobreajuste = model_evaluation(dt_model3, X_train = X_train_tree, y_train = y_train)\n",
    "evaluacion_modelo"
   ]
  },
  {
   "cell_type": "code",
   "execution_count": null,
   "id": "903a815c-fb78-4a24-8c89-b61fe645478c",
   "metadata": {},
   "outputs": [],
   "source": [
    "dt_model3.fit(X_train_tree, y_train)\n",
    "y_pred = dt_model3.predict(X = X_train_tree)\n",
    "y_pred_test = dt_model3.predict(X = X_test_tree)   \n",
    "resultados(y_train, y_pred)\n",
    "resultados(y_test, y_pred_test)"
   ]
  },
  {
   "cell_type": "code",
   "execution_count": null,
   "id": "4776e094-a7b9-45b3-bc6d-4f92bf30c298",
   "metadata": {},
   "outputs": [],
   "source": [
    "# Definir cuántas barras graficar\n",
    "num_bars = 75  # Cambia este valor según sea necesario\n",
    "\n",
    "# Filtrar las filas con mayor \"Value\" y ordenar\n",
    "top_n_df = dt_trials_df.nlargest(num_bars, 'Value').sort_values(by='Value')\n",
    "\n",
    "# Usar los datos filtrados\n",
    "models = top_n_df['Model']\n",
    "mean_test_scores = top_n_df['Mean Test Score']\n",
    "test_stds = top_n_df['Test Std']\n",
    "overfitting_risk = top_n_df['Overfitting Risk']\n",
    "trial_numbers = top_n_df['Trial Number']\n",
    "\n",
    "# Determinar colores de las barras\n",
    "colors = ['green' if risk == 'Low' else 'red' for risk in overfitting_risk]\n",
    "\n",
    "# Crear el gráfico de barras\n",
    "plt.figure(figsize=(10, 6))\n",
    "bar_width = 0.4\n",
    "x_pos = np.arange(len(models))\n",
    "\n",
    "plt.bar(x_pos, mean_test_scores, yerr=test_stds, capsize=5, color=colors, alpha=0.7)\n",
    "\n",
    "# Añadir etiquetas de \"Trial Number\" al pie de cada barra\n",
    "plt.xticks(x_pos, trial_numbers, rotation=45)  # Cambiar los ticks del eje x a los números de ensayo\n",
    "\n",
    "# Añadir etiquetas y título\n",
    "plt.title(f'Mean Test Scores with Standard Deviation for Top {num_bars} Models by Value')\n",
    "plt.ylabel('Mean Test Score')\n",
    "\n",
    "# Ajustar el límite del eje y\n",
    "plt.ylim(0.6, 1.0)\n",
    "\n",
    "# Añadir leyenda\n",
    "green_patch = plt.Rectangle((0, 0), 1, 1, color='green', label='Low Overfitting Risk')\n",
    "red_patch = plt.Rectangle((0, 0), 1, 1, color='red', label='High Overfitting Risk')\n",
    "plt.legend(handles=[green_patch, red_patch])\n",
    "\n",
    "# Mostrar el gráfico\n",
    "plt.tight_layout()\n",
    "plt.show()"
   ]
  },
  {
   "cell_type": "code",
   "execution_count": null,
   "id": "050e1ef5-78df-4351-bddf-e9bf4f396983",
   "metadata": {},
   "outputs": [],
   "source": []
  },
  {
   "cell_type": "code",
   "execution_count": null,
   "id": "cc926d9b-92ec-4f89-81ee-23421c7edfb1",
   "metadata": {},
   "outputs": [],
   "source": []
  },
  {
   "cell_type": "code",
   "execution_count": null,
   "id": "d0828f90-d037-4814-83a5-d39586e1fbdf",
   "metadata": {},
   "outputs": [],
   "source": []
  },
  {
   "cell_type": "code",
   "execution_count": null,
   "id": "4a5e00d6-c1d8-4dc8-95e0-2b3fee600caf",
   "metadata": {},
   "outputs": [],
   "source": []
  },
  {
   "cell_type": "code",
   "execution_count": null,
   "id": "477ec650-ed92-4031-9f3b-37933ce3ae8f",
   "metadata": {},
   "outputs": [],
   "source": []
  },
  {
   "cell_type": "code",
   "execution_count": null,
   "id": "fcbf89d4-bcbc-4072-a80f-0c7632e4b56a",
   "metadata": {},
   "outputs": [],
   "source": []
  },
  {
   "cell_type": "code",
   "execution_count": null,
   "id": "cf596423-6b06-4fa0-b57a-241c4d13916e",
   "metadata": {},
   "outputs": [],
   "source": []
  },
  {
   "cell_type": "code",
   "execution_count": null,
   "id": "bbfbd0ec-f38f-4c48-b571-7f21854001ae",
   "metadata": {},
   "outputs": [],
   "source": []
  },
  {
   "cell_type": "code",
   "execution_count": null,
   "id": "f20a8f32-c655-44c4-b1fb-e5f2f7a97682",
   "metadata": {},
   "outputs": [],
   "source": []
  },
  {
   "cell_type": "code",
   "execution_count": null,
   "id": "3d6627e1-0ef3-4f09-8265-3e1de0a79b13",
   "metadata": {},
   "outputs": [],
   "source": []
  },
  {
   "cell_type": "code",
   "execution_count": null,
   "id": "31ba7fd2-a66f-407f-951c-166401eb3d4a",
   "metadata": {},
   "outputs": [],
   "source": []
  },
  {
   "cell_type": "code",
   "execution_count": null,
   "id": "b0dd680b-fc40-496a-8bfa-daf64142f04b",
   "metadata": {},
   "outputs": [],
   "source": []
  },
  {
   "cell_type": "code",
   "execution_count": null,
   "id": "dc254ad6-dc46-4e6a-beef-854848ef3f3d",
   "metadata": {},
   "outputs": [],
   "source": []
  },
  {
   "cell_type": "code",
   "execution_count": null,
   "id": "87035878-09b3-41aa-b9ee-08de271566e8",
   "metadata": {},
   "outputs": [],
   "source": []
  },
  {
   "cell_type": "code",
   "execution_count": null,
   "id": "4b234bf8-5301-4165-8d6a-49d5bdcdfb32",
   "metadata": {},
   "outputs": [],
   "source": []
  },
  {
   "cell_type": "markdown",
   "id": "4e2610f7-8a0c-4fdd-8f5b-00cf2a05a16b",
   "metadata": {},
   "source": [
    "## Modelo final"
   ]
  },
  {
   "cell_type": "markdown",
   "id": "306309db-0d36-43a9-869a-9292d474bfd0",
   "metadata": {},
   "source": [
    "#### Los siguientes parametros se obtuvieron con TPE de Optuna en una corrida en la cual no hay registro. Esto hace notar la aleatoriedad al buscar el mejor conjunto de parametros para determiando modelo, ya que Optuna pudo haber encontrado un maximo local en lugar del minimo global.\n",
    "#### De cualquier manera, la precision en la mayoria de los modelos probados cayó dentro del intervalo de confianzapor obtenido del CV del conjunto prueba por lo tanto, no se puede rechazar la hipotesis que dichos modelos no sobreajustan"
   ]
  },
  {
   "cell_type": "code",
   "execution_count": null,
   "id": "1f1b1c45-8efe-4663-bc39-2b43175c06a3",
   "metadata": {},
   "outputs": [],
   "source": [
    "model_logist2 = LogisticRegression(\n",
    "            penalty = 'l2',\n",
    "            C = 2.5821196041782692,\n",
    "            solver = 'saga',\n",
    "            max_iter = 226\n",
    "        )"
   ]
  },
  {
   "cell_type": "code",
   "execution_count": null,
   "id": "7f593f39-54d1-4fa4-bf7e-01abc8ec20a7",
   "metadata": {},
   "outputs": [],
   "source": [
    "model_logist2.fit(X_train, y_train)"
   ]
  },
  {
   "cell_type": "code",
   "execution_count": null,
   "id": "7fc61c76-98d4-41ec-8de6-a85c74663adc",
   "metadata": {},
   "outputs": [],
   "source": [
    "y_pred = model_logist2.predict(X = X_train)\n",
    "y_pred_test = model_logist2.predict(X = X_test)\n",
    "resultados(y_train, y_pred)\n",
    "resultados(y_test, y_pred_test)"
   ]
  },
  {
   "cell_type": "code",
   "execution_count": null,
   "id": "9a0d2171-6e2a-4b37-9f8a-d391ca50a0ff",
   "metadata": {},
   "outputs": [],
   "source": [
    "evaluacion_modelo, riesgo_sobreajuste = model_evaluation(model_logist2, X_train = X_train, y_train = y_train)\n",
    "evaluacion_modelo"
   ]
  },
  {
   "cell_type": "code",
   "execution_count": null,
   "id": "647b3d21-db8d-49a5-a310-b90e924a831a",
   "metadata": {},
   "outputs": [],
   "source": [
    "riesgo_sobreajuste"
   ]
  },
  {
   "cell_type": "code",
   "execution_count": null,
   "id": "c7272426-80e2-4793-b8c0-6bce9b54cd88",
   "metadata": {},
   "outputs": [],
   "source": []
  },
  {
   "cell_type": "code",
   "execution_count": null,
   "id": "8cf29203-781f-4cce-b9b5-64424a324252",
   "metadata": {},
   "outputs": [],
   "source": []
  },
  {
   "cell_type": "code",
   "execution_count": null,
   "id": "cd4dd8f9-6dc3-43f2-8c34-e33ef0c56a63",
   "metadata": {},
   "outputs": [],
   "source": []
  },
  {
   "cell_type": "code",
   "execution_count": null,
   "id": "afd86cfd-1e30-4845-86d9-dfc89e66a308",
   "metadata": {},
   "outputs": [],
   "source": []
  },
  {
   "cell_type": "code",
   "execution_count": null,
   "id": "3db16037-ca22-45b4-a4f2-fbaff2c33aae",
   "metadata": {},
   "outputs": [],
   "source": []
  }
 ],
 "metadata": {
  "kernelspec": {
   "display_name": "Python 3 (ipykernel)",
   "language": "python",
   "name": "python3"
  },
  "language_info": {
   "codemirror_mode": {
    "name": "ipython",
    "version": 3
   },
   "file_extension": ".py",
   "mimetype": "text/x-python",
   "name": "python",
   "nbconvert_exporter": "python",
   "pygments_lexer": "ipython3",
   "version": "3.9.19"
  }
 },
 "nbformat": 4,
 "nbformat_minor": 5
}
